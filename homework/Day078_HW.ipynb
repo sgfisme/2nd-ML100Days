{
 "cells": [
  {
   "cell_type": "markdown",
   "metadata": {},
   "source": [
    "## Work\n",
    "1. 請嘗試將 preproc_x 替換成以每筆資料的 min/max 進行標準化至 -1 ~ 1 間，再進行訓練\n",
    "2. 請嘗試將 mlp 疊更深 (e.g 5~10 層)，進行訓練後觀察 learning curve 的走勢\n",
    "3. (optional) 請改用 GPU 進行訓練 (如果你有 GPU 的話)，比較使用 CPU 與 GPU 的訓練速度"
   ]
  },
  {
   "cell_type": "code",
   "execution_count": 1,
   "metadata": {},
   "outputs": [],
   "source": [
    "## \n",
    "\"\"\"\n",
    "Your code here (optional)\n",
    "確認硬體資源\n",
    "\"\"\"\n"
   ]
  },
  {
   "cell_type": "code",
   "execution_count": 28,
   "metadata": {},
   "outputs": [],
   "source": [
    "import os\n",
    "import keras\n",
    "import numpy as np\n",
    "\n",
    "# 請嘗試設定 GPU：os.environ\n"
   ]
  },
  {
   "cell_type": "code",
   "execution_count": 39,
   "metadata": {},
   "outputs": [],
   "source": [
    "train, test = keras.datasets.cifar10.load_data()"
   ]
  },
  {
   "cell_type": "code",
   "execution_count": 42,
   "metadata": {},
   "outputs": [],
   "source": [
    "## 資料前處理\n",
    "\"\"\"\n",
    "Your code here\n",
    "\"\"\"\n",
    "def preproc_x(x, flatten=True):\n",
    "    # 將資料透過min-max正規化至-1~1之間\n",
    "    # 公式為 (x-x's mean)/(x's max - x's min)\n",
    "    x = (x - np.mean(x)) / (x.max() - x.min())\n",
    "    if flatten:\n",
    "        x = x.reshape((len(x), -1))\n",
    "    return x\n",
    "\n",
    "def preproc_y(y, num_classes=10):\n",
    "    if y.shape[-1] == 1:\n",
    "        y = keras.utils.to_categorical(y, num_classes)\n",
    "    return y"
   ]
  },
  {
   "cell_type": "code",
   "execution_count": 43,
   "metadata": {},
   "outputs": [
    {
     "name": "stdout",
     "output_type": "stream",
     "text": [
      "(50000, 32, 32, 3)\n",
      "(50000, 3072)\n"
     ]
    }
   ],
   "source": [
    "x_train, y_train = train\n",
    "x_test, y_test = test\n",
    "print(x_train.shape)\n",
    "\n",
    "# Preproc the inputs\n",
    "x_train = preproc_x(x_train)\n",
    "x_test = preproc_x(x_test)\n",
    "\n",
    "print(x_train.shape)\n",
    "\n",
    "# Preprc the outputs\n",
    "y_train = preproc_y(y_train)\n",
    "y_test = preproc_y(y_test)"
   ]
  },
  {
   "cell_type": "code",
   "execution_count": 44,
   "metadata": {},
   "outputs": [
    {
     "name": "stdout",
     "output_type": "stream",
     "text": [
      "_________________________________________________________________\n",
      "Layer (type)                 Output Shape              Param #   \n",
      "=================================================================\n",
      "input_2 (InputLayer)         (None, 3072)              0         \n",
      "_________________________________________________________________\n",
      "hidden_layer1 (Dense)        (None, 512)               1573376   \n",
      "_________________________________________________________________\n",
      "hidden_layer2 (Dense)        (None, 256)               131328    \n",
      "_________________________________________________________________\n",
      "hidden_layer3 (Dense)        (None, 128)               32896     \n",
      "_________________________________________________________________\n",
      "hidden_layer4 (Dense)        (None, 64)                8256      \n",
      "_________________________________________________________________\n",
      "hidden_layer5 (Dense)        (None, 32)                2080      \n",
      "_________________________________________________________________\n",
      "hidden_layer6 (Dense)        (None, 16)                528       \n",
      "_________________________________________________________________\n",
      "hidden_layer7 (Dense)        (None, 8)                 136       \n",
      "_________________________________________________________________\n",
      "hidden_layer8 (Dense)        (None, 4)                 36        \n",
      "_________________________________________________________________\n",
      "hidden_layer9 (Dense)        (None, 2)                 10        \n",
      "_________________________________________________________________\n",
      "output (Dense)               (None, 10)                30        \n",
      "=================================================================\n",
      "Total params: 1,748,676\n",
      "Trainable params: 1,748,676\n",
      "Non-trainable params: 0\n",
      "_________________________________________________________________\n"
     ]
    }
   ],
   "source": [
    "\"\"\"Code Here\n",
    "建立你的神經網路\n",
    "\"\"\"\n",
    "def build_mlp(input_shape, output_units=10, num_neurons=[512, 256, 128, 64, 32, 16, 8, 4, 2]):\n",
    "    input_layer = keras.layers.Input(input_shape)\n",
    "    \n",
    "    for i, n_units in enumerate(num_neurons):\n",
    "        if i == 0:\n",
    "            x = keras.layers.Dense(units=n_units, activation=\"relu\", name=\"hidden_layer\"+str(i+1))(input_layer)\n",
    "        else:\n",
    "            x = keras.layers.Dense(units=n_units, activation=\"relu\", name=\"hidden_layer\"+str(i+1))(x)\n",
    "    \n",
    "    out = keras.layers.Dense(units=output_units, activation=\"softmax\", name=\"output\")(x)\n",
    "    \n",
    "    model = keras.models.Model(inputs=[input_layer], outputs=[out])\n",
    "    return model\n",
    "\n",
    "model = build_mlp(input_shape=x_train.shape[1:])\n",
    "model.summary()"
   ]
  },
  {
   "cell_type": "code",
   "execution_count": 45,
   "metadata": {},
   "outputs": [],
   "source": [
    "## 超參數設定\n",
    "LEARNING_RATE = 0.001\n",
    "EPOCHS = 100\n",
    "BATCH_SIZE = 256"
   ]
  },
  {
   "cell_type": "code",
   "execution_count": 46,
   "metadata": {},
   "outputs": [],
   "source": [
    "optimizer = keras.optimizers.Adam(lr=LEARNING_RATE)\n",
    "model.compile(loss=\"categorical_crossentropy\", metrics=[\"accuracy\"], optimizer=optimizer)"
   ]
  },
  {
   "cell_type": "code",
   "execution_count": 47,
   "metadata": {},
   "outputs": [
    {
     "name": "stderr",
     "output_type": "stream",
     "text": [
      "W0829 14:00:37.282909  4728 deprecation.py:323] From D:\\Program Files\\Anaconda3\\lib\\site-packages\\tensorflow\\python\\ops\\math_grad.py:1250: add_dispatch_support.<locals>.wrapper (from tensorflow.python.ops.array_ops) is deprecated and will be removed in a future version.\n",
      "Instructions for updating:\n",
      "Use tf.where in 2.0, which has the same broadcast rule as np.where\n",
      "W0829 14:00:37.367918  4728 deprecation_wrapper.py:119] From D:\\Program Files\\Anaconda3\\lib\\site-packages\\keras\\backend\\tensorflow_backend.py:986: The name tf.assign_add is deprecated. Please use tf.compat.v1.assign_add instead.\n",
      "\n"
     ]
    },
    {
     "name": "stdout",
     "output_type": "stream",
     "text": [
      "Train on 50000 samples, validate on 10000 samples\n",
      "Epoch 1/100\n",
      "50000/50000 [==============================] - 10s 209us/step - loss: 2.2143 - acc: 0.2036 - val_loss: 2.1562 - val_acc: 0.2503\n",
      "Epoch 2/100\n",
      "50000/50000 [==============================] - 7s 139us/step - loss: 2.0808 - acc: 0.2740 - val_loss: 2.0120 - val_acc: 0.2934\n",
      "Epoch 3/100\n",
      "50000/50000 [==============================] - 7s 140us/step - loss: 1.9518 - acc: 0.3244 - val_loss: 1.9059 - val_acc: 0.3224\n",
      "Epoch 4/100\n",
      "50000/50000 [==============================] - 7s 142us/step - loss: 1.8482 - acc: 0.3440 - val_loss: 1.8310 - val_acc: 0.3466\n",
      "Epoch 5/100\n",
      "50000/50000 [==============================] - 7s 145us/step - loss: 1.7538 - acc: 0.3679 - val_loss: 1.7848 - val_acc: 0.3725\n",
      "Epoch 6/100\n",
      "50000/50000 [==============================] - 7s 136us/step - loss: 1.6685 - acc: 0.3950 - val_loss: 1.7262 - val_acc: 0.3860\n",
      "Epoch 7/100\n",
      "50000/50000 [==============================] - 7s 136us/step - loss: 1.5937 - acc: 0.4227 - val_loss: 1.7341 - val_acc: 0.3881\n",
      "Epoch 8/100\n",
      "50000/50000 [==============================] - 7s 134us/step - loss: 1.5307 - acc: 0.4474 - val_loss: 1.7286 - val_acc: 0.4176\n",
      "Epoch 9/100\n",
      "50000/50000 [==============================] - 7s 134us/step - loss: 1.4687 - acc: 0.4723 - val_loss: 1.6973 - val_acc: 0.4267\n",
      "Epoch 10/100\n",
      "50000/50000 [==============================] - 7s 134us/step - loss: 1.4095 - acc: 0.4937 - val_loss: 1.6930 - val_acc: 0.4357\n",
      "Epoch 11/100\n",
      "50000/50000 [==============================] - 7s 134us/step - loss: 1.3576 - acc: 0.5103 - val_loss: 1.7285 - val_acc: 0.4205\n",
      "Epoch 12/100\n",
      "50000/50000 [==============================] - 7s 133us/step - loss: 1.3029 - acc: 0.5252 - val_loss: 1.7671 - val_acc: 0.4434\n",
      "Epoch 13/100\n",
      "50000/50000 [==============================] - 7s 134us/step - loss: 1.2587 - acc: 0.5399 - val_loss: 1.7893 - val_acc: 0.4449\n",
      "Epoch 14/100\n",
      "50000/50000 [==============================] - 7s 134us/step - loss: 1.2010 - acc: 0.5589 - val_loss: 1.7864 - val_acc: 0.4578\n",
      "Epoch 15/100\n",
      "50000/50000 [==============================] - 7s 133us/step - loss: 1.1584 - acc: 0.5705 - val_loss: 1.8296 - val_acc: 0.4569\n",
      "Epoch 16/100\n",
      "50000/50000 [==============================] - 7s 133us/step - loss: 1.1232 - acc: 0.5820 - val_loss: 1.8240 - val_acc: 0.4476\n",
      "Epoch 17/100\n",
      "50000/50000 [==============================] - 7s 147us/step - loss: 1.0706 - acc: 0.5982 - val_loss: 1.8397 - val_acc: 0.4650\n",
      "Epoch 18/100\n",
      "50000/50000 [==============================] - 7s 137us/step - loss: 1.0313 - acc: 0.6096 - val_loss: 2.0175 - val_acc: 0.4595\n",
      "Epoch 19/100\n",
      "50000/50000 [==============================] - 7s 138us/step - loss: 1.0080 - acc: 0.6179 - val_loss: 2.0266 - val_acc: 0.4620\n",
      "Epoch 20/100\n",
      "50000/50000 [==============================] - 7s 142us/step - loss: 0.9560 - acc: 0.6324 - val_loss: 2.0620 - val_acc: 0.4628\n",
      "Epoch 21/100\n",
      "50000/50000 [==============================] - 7s 139us/step - loss: 0.9420 - acc: 0.6397 - val_loss: 2.0238 - val_acc: 0.4541\n",
      "Epoch 22/100\n",
      "50000/50000 [==============================] - 7s 144us/step - loss: 0.9037 - acc: 0.6512 - val_loss: 2.1957 - val_acc: 0.4583\n",
      "Epoch 23/100\n",
      "50000/50000 [==============================] - 7s 139us/step - loss: 0.9299 - acc: 0.6452 - val_loss: 2.0996 - val_acc: 0.4610\n",
      "Epoch 24/100\n",
      "50000/50000 [==============================] - 7s 140us/step - loss: 0.8562 - acc: 0.6669 - val_loss: 2.1535 - val_acc: 0.4637\n",
      "Epoch 25/100\n",
      "50000/50000 [==============================] - 8s 166us/step - loss: 0.8473 - acc: 0.6703 - val_loss: 2.1976 - val_acc: 0.4774\n",
      "Epoch 26/100\n",
      "50000/50000 [==============================] - 7s 141us/step - loss: 0.7999 - acc: 0.6868 - val_loss: 2.3953 - val_acc: 0.4720\n",
      "Epoch 27/100\n",
      "50000/50000 [==============================] - 7s 135us/step - loss: 0.7739 - acc: 0.6955 - val_loss: 2.2975 - val_acc: 0.4674\n",
      "Epoch 28/100\n",
      "50000/50000 [==============================] - 7s 135us/step - loss: 0.7958 - acc: 0.6896 - val_loss: 2.3723 - val_acc: 0.4670\n",
      "Epoch 29/100\n",
      "50000/50000 [==============================] - 7s 133us/step - loss: 0.7267 - acc: 0.7127 - val_loss: 2.3535 - val_acc: 0.4727\n",
      "Epoch 30/100\n",
      "50000/50000 [==============================] - 7s 142us/step - loss: 0.6942 - acc: 0.7228 - val_loss: 2.5137 - val_acc: 0.4828\n",
      "Epoch 31/100\n",
      "50000/50000 [==============================] - 7s 134us/step - loss: 0.6835 - acc: 0.7281 - val_loss: 2.6106 - val_acc: 0.4690\n",
      "Epoch 32/100\n",
      "50000/50000 [==============================] - 7s 134us/step - loss: 0.6876 - acc: 0.7294 - val_loss: 2.5312 - val_acc: 0.4777\n",
      "Epoch 33/100\n",
      "50000/50000 [==============================] - 7s 137us/step - loss: 0.6727 - acc: 0.7351 - val_loss: 2.6500 - val_acc: 0.4816\n",
      "Epoch 34/100\n",
      "50000/50000 [==============================] - 7s 138us/step - loss: 0.6461 - acc: 0.7446 - val_loss: 2.5219 - val_acc: 0.4704\n",
      "Epoch 35/100\n",
      "50000/50000 [==============================] - 7s 134us/step - loss: 0.6506 - acc: 0.7450 - val_loss: 2.6872 - val_acc: 0.4712\n",
      "Epoch 36/100\n",
      "50000/50000 [==============================] - 7s 140us/step - loss: 0.6565 - acc: 0.7453 - val_loss: 2.5508 - val_acc: 0.4753\n",
      "Epoch 37/100\n",
      "50000/50000 [==============================] - 7s 134us/step - loss: 0.6308 - acc: 0.7542 - val_loss: 2.7174 - val_acc: 0.4847\n",
      "Epoch 38/100\n",
      "50000/50000 [==============================] - 7s 134us/step - loss: 0.5953 - acc: 0.7671 - val_loss: 2.7626 - val_acc: 0.4857\n",
      "Epoch 39/100\n",
      "50000/50000 [==============================] - 7s 134us/step - loss: 0.5768 - acc: 0.7757 - val_loss: 2.8164 - val_acc: 0.4722\n",
      "Epoch 40/100\n",
      "50000/50000 [==============================] - 7s 140us/step - loss: 0.6398 - acc: 0.7583 - val_loss: 2.6796 - val_acc: 0.4869\n",
      "Epoch 41/100\n",
      "50000/50000 [==============================] - 7s 135us/step - loss: 0.5885 - acc: 0.7740 - val_loss: 2.8674 - val_acc: 0.4821\n",
      "Epoch 42/100\n",
      "50000/50000 [==============================] - 7s 134us/step - loss: 0.5527 - acc: 0.7866 - val_loss: 2.9854 - val_acc: 0.4863\n",
      "Epoch 43/100\n",
      "50000/50000 [==============================] - 7s 134us/step - loss: 0.5033 - acc: 0.8034 - val_loss: 3.0662 - val_acc: 0.4877\n",
      "Epoch 44/100\n",
      "50000/50000 [==============================] - 7s 133us/step - loss: 0.5383 - acc: 0.7952 - val_loss: 2.8751 - val_acc: 0.4774\n",
      "Epoch 45/100\n",
      "50000/50000 [==============================] - 7s 139us/step - loss: 0.5452 - acc: 0.7948 - val_loss: 3.0075 - val_acc: 0.4892\n",
      "Epoch 46/100\n",
      "50000/50000 [==============================] - 7s 142us/step - loss: 0.4670 - acc: 0.8199 - val_loss: 3.0427 - val_acc: 0.4806\n",
      "Epoch 47/100\n",
      "50000/50000 [==============================] - 7s 136us/step - loss: 0.5601 - acc: 0.7929 - val_loss: 2.8809 - val_acc: 0.4764\n",
      "Epoch 48/100\n",
      "50000/50000 [==============================] - 7s 139us/step - loss: 0.4824 - acc: 0.8166 - val_loss: 3.2321 - val_acc: 0.4946\n",
      "Epoch 49/100\n",
      "50000/50000 [==============================] - 7s 136us/step - loss: 0.4393 - acc: 0.8338 - val_loss: 3.1266 - val_acc: 0.4775\n",
      "Epoch 50/100\n",
      "50000/50000 [==============================] - 7s 135us/step - loss: 0.5567 - acc: 0.8004 - val_loss: 3.0045 - val_acc: 0.4676\n",
      "Epoch 51/100\n",
      "50000/50000 [==============================] - 7s 146us/step - loss: 0.5098 - acc: 0.8128 - val_loss: 3.0749 - val_acc: 0.4889\n",
      "Epoch 52/100\n",
      "50000/50000 [==============================] - 7s 145us/step - loss: 0.4153 - acc: 0.8466 - val_loss: 3.2922 - val_acc: 0.4779\n",
      "Epoch 53/100\n",
      "50000/50000 [==============================] - 8s 155us/step - loss: 0.4596 - acc: 0.8327 - val_loss: 3.0983 - val_acc: 0.4849\n",
      "Epoch 54/100\n",
      "50000/50000 [==============================] - 7s 142us/step - loss: 0.4277 - acc: 0.8442 - val_loss: 3.4014 - val_acc: 0.4852\n",
      "Epoch 55/100\n",
      "50000/50000 [==============================] - 7s 140us/step - loss: 0.4037 - acc: 0.8531 - val_loss: 3.3714 - val_acc: 0.4899\n",
      "Epoch 56/100\n",
      "50000/50000 [==============================] - 7s 138us/step - loss: 0.4664 - acc: 0.8341 - val_loss: 3.1723 - val_acc: 0.4854\n",
      "Epoch 57/100\n",
      "50000/50000 [==============================] - 7s 141us/step - loss: 0.4267 - acc: 0.8489 - val_loss: 3.2877 - val_acc: 0.4847\n",
      "Epoch 58/100\n",
      "50000/50000 [==============================] - 7s 150us/step - loss: 0.5197 - acc: 0.8186 - val_loss: 3.1450 - val_acc: 0.4918\n",
      "Epoch 59/100\n"
     ]
    },
    {
     "name": "stdout",
     "output_type": "stream",
     "text": [
      "50000/50000 [==============================] - 7s 143us/step - loss: 0.4000 - acc: 0.8585 - val_loss: 3.2753 - val_acc: 0.4882\n",
      "Epoch 60/100\n",
      "50000/50000 [==============================] - 7s 134us/step - loss: 0.4376 - acc: 0.8470 - val_loss: 3.3099 - val_acc: 0.4788\n",
      "Epoch 61/100\n",
      "50000/50000 [==============================] - 7s 135us/step - loss: 0.4192 - acc: 0.8543 - val_loss: 3.3222 - val_acc: 0.4871\n",
      "Epoch 62/100\n",
      "50000/50000 [==============================] - 7s 133us/step - loss: 0.4018 - acc: 0.8585 - val_loss: 3.4097 - val_acc: 0.4777\n",
      "Epoch 63/100\n",
      "50000/50000 [==============================] - 7s 134us/step - loss: 0.3591 - acc: 0.8753 - val_loss: 3.3442 - val_acc: 0.4853\n",
      "Epoch 64/100\n",
      "50000/50000 [==============================] - 7s 136us/step - loss: 0.4084 - acc: 0.8593 - val_loss: 3.3334 - val_acc: 0.4855\n",
      "Epoch 65/100\n",
      "50000/50000 [==============================] - 7s 135us/step - loss: 0.4179 - acc: 0.8570 - val_loss: 3.4133 - val_acc: 0.4887\n",
      "Epoch 66/100\n",
      "50000/50000 [==============================] - 7s 133us/step - loss: 0.3502 - acc: 0.8783 - val_loss: 3.5077 - val_acc: 0.4927\n",
      "Epoch 67/100\n",
      "50000/50000 [==============================] - 7s 134us/step - loss: 0.3214 - acc: 0.8892 - val_loss: 3.4689 - val_acc: 0.4887\n",
      "Epoch 68/100\n",
      "50000/50000 [==============================] - 7s 134us/step - loss: 0.3470 - acc: 0.8826 - val_loss: 3.4332 - val_acc: 0.4762\n",
      "Epoch 69/100\n",
      "50000/50000 [==============================] - 7s 134us/step - loss: 0.3387 - acc: 0.8828 - val_loss: 3.6954 - val_acc: 0.4883\n",
      "Epoch 70/100\n",
      "50000/50000 [==============================] - 7s 134us/step - loss: 0.3218 - acc: 0.8909 - val_loss: 3.6892 - val_acc: 0.4882\n",
      "Epoch 71/100\n",
      "50000/50000 [==============================] - 7s 135us/step - loss: 0.4054 - acc: 0.8680 - val_loss: 3.3633 - val_acc: 0.4961\n",
      "Epoch 72/100\n",
      "50000/50000 [==============================] - 7s 135us/step - loss: 0.3159 - acc: 0.8953 - val_loss: 3.4387 - val_acc: 0.4903\n",
      "Epoch 73/100\n",
      "50000/50000 [==============================] - 7s 137us/step - loss: 0.2840 - acc: 0.9061 - val_loss: 3.7540 - val_acc: 0.4970\n",
      "Epoch 74/100\n",
      "50000/50000 [==============================] - 7s 134us/step - loss: 0.2910 - acc: 0.9051 - val_loss: 3.6728 - val_acc: 0.4850\n",
      "Epoch 75/100\n",
      "50000/50000 [==============================] - 7s 136us/step - loss: 0.3597 - acc: 0.8823 - val_loss: 3.7705 - val_acc: 0.4913\n",
      "Epoch 76/100\n",
      "50000/50000 [==============================] - 7s 134us/step - loss: 0.2892 - acc: 0.9041 - val_loss: 3.6725 - val_acc: 0.4857\n",
      "Epoch 77/100\n",
      "50000/50000 [==============================] - 8s 162us/step - loss: 0.4292 - acc: 0.8651 - val_loss: 3.4366 - val_acc: 0.4954\n",
      "Epoch 78/100\n",
      "50000/50000 [==============================] - 9s 183us/step - loss: 0.2667 - acc: 0.9128 - val_loss: 3.7913 - val_acc: 0.4954\n",
      "Epoch 79/100\n",
      "50000/50000 [==============================] - 8s 155us/step - loss: 0.2304 - acc: 0.9266 - val_loss: 3.8491 - val_acc: 0.4898\n",
      "Epoch 80/100\n",
      "50000/50000 [==============================] - 7s 148us/step - loss: 0.3147 - acc: 0.9022 - val_loss: 3.4656 - val_acc: 0.4831\n",
      "Epoch 81/100\n",
      "50000/50000 [==============================] - 7s 146us/step - loss: 0.5597 - acc: 0.8202 - val_loss: 3.4913 - val_acc: 0.4901\n",
      "Epoch 82/100\n",
      "50000/50000 [==============================] - 7s 145us/step - loss: 0.3318 - acc: 0.8913 - val_loss: 3.7489 - val_acc: 0.5025\n",
      "Epoch 83/100\n",
      "50000/50000 [==============================] - 7s 144us/step - loss: 0.2153 - acc: 0.9327 - val_loss: 3.9892 - val_acc: 0.4969\n",
      "Epoch 84/100\n",
      "50000/50000 [==============================] - 7s 146us/step - loss: 0.2292 - acc: 0.9267 - val_loss: 3.9172 - val_acc: 0.4922\n",
      "Epoch 85/100\n",
      "50000/50000 [==============================] - 7s 146us/step - loss: 0.2072 - acc: 0.9349 - val_loss: 3.9929 - val_acc: 0.4899\n",
      "Epoch 86/100\n",
      "50000/50000 [==============================] - 7s 144us/step - loss: 0.2731 - acc: 0.9148 - val_loss: 3.7995 - val_acc: 0.4904\n",
      "Epoch 87/100\n",
      "50000/50000 [==============================] - 7s 145us/step - loss: 0.3015 - acc: 0.9043 - val_loss: 3.7739 - val_acc: 0.4894\n",
      "Epoch 88/100\n",
      "50000/50000 [==============================] - 8s 168us/step - loss: 0.3234 - acc: 0.9014 - val_loss: 3.6914 - val_acc: 0.4825\n",
      "Epoch 89/100\n",
      "50000/50000 [==============================] - 10s 194us/step - loss: 0.3463 - acc: 0.8909 - val_loss: 3.7840 - val_acc: 0.4943\n",
      "Epoch 90/100\n",
      "50000/50000 [==============================] - 7s 142us/step - loss: 0.2054 - acc: 0.9369 - val_loss: 3.9996 - val_acc: 0.4977\n",
      "Epoch 91/100\n",
      "50000/50000 [==============================] - 7s 143us/step - loss: 0.1581 - acc: 0.9517 - val_loss: 4.1808 - val_acc: 0.4970\n",
      "Epoch 92/100\n",
      "50000/50000 [==============================] - 7s 137us/step - loss: 0.1959 - acc: 0.9399 - val_loss: 3.9824 - val_acc: 0.4864\n",
      "Epoch 93/100\n",
      "50000/50000 [==============================] - 7s 136us/step - loss: 0.2934 - acc: 0.9083 - val_loss: 3.8511 - val_acc: 0.4875\n",
      "Epoch 94/100\n",
      "50000/50000 [==============================] - 7s 135us/step - loss: 0.4037 - acc: 0.8764 - val_loss: 3.6983 - val_acc: 0.4922\n",
      "Epoch 95/100\n",
      "50000/50000 [==============================] - 7s 137us/step - loss: 0.2392 - acc: 0.9270 - val_loss: 3.8486 - val_acc: 0.4800\n",
      "Epoch 96/100\n",
      "50000/50000 [==============================] - 10s 196us/step - loss: 0.4187 - acc: 0.8716 - val_loss: 3.5247 - val_acc: 0.4933\n",
      "Epoch 97/100\n",
      "50000/50000 [==============================] - 7s 143us/step - loss: 0.2955 - acc: 0.9085 - val_loss: 3.6989 - val_acc: 0.4989\n",
      "Epoch 98/100\n",
      "50000/50000 [==============================] - 7s 144us/step - loss: 0.1776 - acc: 0.9461 - val_loss: 4.0829 - val_acc: 0.5007\n",
      "Epoch 99/100\n",
      "50000/50000 [==============================] - 7s 148us/step - loss: 0.1498 - acc: 0.9558 - val_loss: 4.1289 - val_acc: 0.4974\n",
      "Epoch 100/100\n",
      "50000/50000 [==============================] - 7s 146us/step - loss: 0.1484 - acc: 0.9561 - val_loss: 4.1984 - val_acc: 0.4989\n"
     ]
    },
    {
     "data": {
      "text/plain": [
       "<keras.callbacks.History at 0xdfa9278>"
      ]
     },
     "execution_count": 47,
     "metadata": {},
     "output_type": "execute_result"
    }
   ],
   "source": [
    "model.fit(x_train, y_train, \n",
    "          epochs=EPOCHS, \n",
    "          batch_size=BATCH_SIZE, \n",
    "          validation_data=(x_test, y_test), \n",
    "          shuffle=True)"
   ]
  },
  {
   "cell_type": "code",
   "execution_count": 49,
   "metadata": {},
   "outputs": [
    {
     "data": {
      "image/png": "[encoded data removed]",
      "text/plain": [
       "<Figure size 432x288 with 1 Axes>"
      ]
     },
     "metadata": {
      "needs_background": "light"
     },
     "output_type": "display_data"
    },
    {
     "data": {
      "image/png": "[encoded data removed]",
      "text/plain": [
       "<Figure size 432x288 with 1 Axes>"
      ]
     },
     "metadata": {
      "needs_background": "light"
     },
     "output_type": "display_data"
    }
   ],
   "source": [
    "import matplotlib.pyplot as plt\n",
    "\n",
    "\n",
    "train_loss = model.history.history[\"loss\"]\n",
    "valid_loss = model.history.history[\"val_loss\"]\n",
    "\n",
    "train_acc = model.history.history[\"acc\"]\n",
    "valid_acc = model.history.history[\"val_acc\"]\n",
    "\n",
    "plt.plot(range(len(train_loss)), train_loss, label=\"train loss\")\n",
    "plt.plot(range(len(valid_loss)), valid_loss, label=\"valid loss\")\n",
    "plt.legend()\n",
    "plt.title(\"Loss\")\n",
    "plt.show()\n",
    "\n",
    "plt.plot(range(len(train_acc)), train_acc, label=\"train accuracy\")\n",
    "plt.plot(range(len(valid_acc)), valid_acc, label=\"valid accuracy\")\n",
    "plt.legend()\n",
    "plt.title(\"Accuracy\")\n",
    "plt.show()"
   ]
  },
  {
   "cell_type": "code",
   "execution_count": null,
   "metadata": {},
   "outputs": [],
   "source": []
  }
 ],
 "metadata": {
  "kernelspec": {
   "display_name": "Python 3",
   "language": "python",
   "name": "python3"
  },
  "language_info": {
   "codemirror_mode": {
    "name": "ipython",
    "version": 3
   },
   "file_extension": ".py",
   "mimetype": "text/x-python",
   "name": "python",
   "nbconvert_exporter": "python",
   "pygments_lexer": "ipython3",
   "version": "3.7.3"
  }
 },
 "nbformat": 4,
 "nbformat_minor": 2
}
