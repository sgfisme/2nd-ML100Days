{
 "cells": [
  {
   "cell_type": "markdown",
   "metadata": {},
   "source": [
    "# 作業\n",
    "* 選擇分類資料集(右下)-螺旋雙臂 - 交錯六群，限定特徵只能使用前兩個，隱藏層 2 層滿 (共 8 * 2 =16 個神經元)，  \n",
    "  遞迴次數只允許跑到500次，但可以自由調整 批次大小、學習速率、啟動函數、正規化選項與參數\n",
    "* 在上述限制下，挑戰看看測試誤差 (Test Loss) 最低能到多少? 請回答你的上述幾項參數與 Test Loss 數"
   ]
  },
  {
   "cell_type": "markdown",
   "metadata": {
    "collapsed": true
   },
   "source": [
    "1. Learning rate: 0.00001, Activation: ReLU, Regularization: None, Regularization rate: 0, Batch Size: 10, Test Loss:0.496\n",
    "2. Learning rate: 0.001, Activation: ReLU, Regularization: None, Regularization rate: 0, Batch Size: 10, Test Loss:0.501\n",
    "3. Learning rate: 0.003, Activation: ReLU, Regularization: None, Regularization rate: 0, Batch Size: 10, Test Loss:0.488\n",
    "4. Learning rate: 0.01, Activation: ReLU, Regularization: None, Regularization rate: 0, Batch Size: 10, Test Loss:0.506\n",
    "5. Learning rate: 0.01, Activation: Tanh, Regularization: None, Regularization rate: 0, Batch Size: 10, Test Loss:0.479\n",
    "6. Learning rate: 0.003, Activation: Tanh, Regularization: None, Regularization rate: 0, Batch Size: 10, Test Loss:0.501\n",
    "7. Learning rate: 0.00001, Activation: Tanh, Regularization: None, Regularization rate: 0, Batch Size: 10, Test Loss:0.486\n",
    "8. Learning rate: 0.0001, Activation: Tanh, Regularization: None, Regularization rate: 0, Batch Size: 10, Test Loss:0.497\n",
    "9. Learning rate: 0.0001, Activation: Sigmoid, Regularization: None, Regularization rate: 0, Batch Size: 10, Test Loss:0.512\n",
    "10. Learning rate: 0.00001, Activation: Sigmoid, Regularization: None, Regularization rate: 0, Batch Size: 10, Test Loss:0.492\n",
    "11. Learning rate: 0.01, Activation: ReLU, Regularization: None, Regularization rate: 0, Batch Size: 5, Test Loss:0.439\n",
    "12. Learning rate: 0.01, Activation: ReLU, Regularization: None, Regularization rate: 0, Batch Size: 3, Test Loss:0.040\n",
    "13. Learning rate: 0.03, Activation: ReLU, Regularization: None, Regularization rate: 0, Batch Size: 3, Test Loss:0.020\n",
    "14. Learning rate: 0.03, Activation: Tanh, Regularization: None, Regularization rate: 0, Batch Size: 3, Test Loss:0.090\n",
    "\n",
    "最終挑戰:\n",
    "Learning rate: 0.03, Activation: ReLU, Regularization: None, Regularization rate: 0, Batch Size: 3, Test Loss:0.020"
   ]
  },
  {
   "cell_type": "markdown",
   "metadata": {
    "collapsed": true
   },
   "source": []
  }
 ],
 "metadata": {
  "kernelspec": {
   "display_name": "Python 3",
   "language": "python",
   "name": "python3"
  },
  "language_info": {
   "codemirror_mode": {
    "name": "ipython",
    "version": 3
   },
   "file_extension": ".py",
   "mimetype": "text/x-python",
   "name": "python",
   "nbconvert_exporter": "python",
   "pygments_lexer": "ipython3",
   "version": "3.7.3"
  }
 },
 "nbformat": 4,
 "nbformat_minor": 2
}
