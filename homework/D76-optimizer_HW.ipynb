{
 "cells": [
  {
   "cell_type": "markdown",
   "metadata": {},
   "source": [
    "# 作業重點:\n",
    "\n",
    "(1)以, Adam, 為例, 調整 batch_size, epoch , 觀察accurancy, loss 的變化\n",
    "\n",
    "(2)以同一模型, 分別驗證 SGD, Adam, Rmsprop 的 accurancy"
   ]
  },
  {
   "cell_type": "markdown",
   "metadata": {},
   "source": [
    "# 作業目標:\n",
    "    \n",
    "    取得各種優化器的運算結果"
   ]
  },
  {
   "cell_type": "code",
   "execution_count": 1,
   "metadata": {},
   "outputs": [
    {
     "name": "stderr",
     "output_type": "stream",
     "text": [
      "Using TensorFlow backend.\n"
     ]
    }
   ],
   "source": [
    "from __future__ import print_function\n",
    "import keras\n",
    "from keras.datasets import cifar10\n",
    "from keras.preprocessing.image import ImageDataGenerator\n",
    "from keras.models import Sequential\n",
    "from keras.layers import Dense, Dropout, Activation, Flatten\n",
    "from keras.layers import Conv2D, MaxPooling2D\n",
    "import os\n",
    "from keras import optimizers\n"
   ]
  },
  {
   "cell_type": "code",
   "execution_count": 2,
   "metadata": {},
   "outputs": [],
   "source": [
    "#Blas GEMM launch failed , 避免動態分配GPU / CPU, 出現問題\n",
    "import tensorflow as tf\n",
    "gpu_options = tf.GPUOptions(per_process_gpu_memory_fraction=0.333)\n",
    "sess = tf.Session(config=tf.ConfigProto(gpu_options=gpu_options))\n"
   ]
  },
  {
   "cell_type": "code",
   "execution_count": 3,
   "metadata": {},
   "outputs": [],
   "source": [
    "\n",
    "'''\n",
    "   宣告並設定\n",
    "   batch_size：對總的樣本數進行分組，每組包含的樣本數量\n",
    "   epochs ：訓練次數\n",
    "   \n",
    "''' \n",
    "\n",
    "batch_size = 32\n",
    "num_classes = 10\n",
    "epochs = 25\n",
    "data_augmentation = True\n",
    "num_predictions = 20\n",
    "save_dir = os.path.join(os.getcwd(), 'saved_models')\n",
    "model_name = 'keras_cifar10_trained_model.h5'\n"
   ]
  },
  {
   "cell_type": "code",
   "execution_count": 4,
   "metadata": {},
   "outputs": [
    {
     "name": "stdout",
     "output_type": "stream",
     "text": [
      "x_train shape: (50000, 32, 32, 3)\n",
      "50000 train samples\n",
      "10000 test samples\n"
     ]
    }
   ],
   "source": [
    "\n",
    "# The data, split between train and test sets:\n",
    "(x_train, y_train), (x_test, y_test) = cifar10.load_data()\n",
    "print('x_train shape:', x_train.shape)\n",
    "print(x_train.shape[0], 'train samples')\n",
    "print(x_test.shape[0], 'test samples')\n",
    "\n",
    "# Convert class vectors to binary class matrices.\n",
    "y_train = keras.utils.to_categorical(y_train, num_classes)\n",
    "y_test = keras.utils.to_categorical(y_test, num_classes)"
   ]
  },
  {
   "cell_type": "code",
   "execution_count": 5,
   "metadata": {},
   "outputs": [
    {
     "name": "stderr",
     "output_type": "stream",
     "text": [
      "WARNING: Logging before flag parsing goes to stderr.\n",
      "W0827 10:18:54.950099  6052 deprecation_wrapper.py:119] From D:\\Program Files\\Anaconda3\\lib\\site-packages\\keras\\backend\\tensorflow_backend.py:74: The name tf.get_default_graph is deprecated. Please use tf.compat.v1.get_default_graph instead.\n",
      "\n",
      "W0827 10:18:54.952099  6052 deprecation_wrapper.py:119] From D:\\Program Files\\Anaconda3\\lib\\site-packages\\keras\\backend\\tensorflow_backend.py:517: The name tf.placeholder is deprecated. Please use tf.compat.v1.placeholder instead.\n",
      "\n",
      "W0827 10:18:54.957099  6052 deprecation_wrapper.py:119] From D:\\Program Files\\Anaconda3\\lib\\site-packages\\keras\\backend\\tensorflow_backend.py:4138: The name tf.random_uniform is deprecated. Please use tf.random.uniform instead.\n",
      "\n",
      "W0827 10:18:54.986103  6052 deprecation_wrapper.py:119] From D:\\Program Files\\Anaconda3\\lib\\site-packages\\keras\\backend\\tensorflow_backend.py:3976: The name tf.nn.max_pool is deprecated. Please use tf.nn.max_pool2d instead.\n",
      "\n",
      "W0827 10:18:54.989103  6052 deprecation_wrapper.py:119] From D:\\Program Files\\Anaconda3\\lib\\site-packages\\keras\\backend\\tensorflow_backend.py:133: The name tf.placeholder_with_default is deprecated. Please use tf.compat.v1.placeholder_with_default instead.\n",
      "\n",
      "W0827 10:18:54.998104  6052 deprecation.py:506] From D:\\Program Files\\Anaconda3\\lib\\site-packages\\keras\\backend\\tensorflow_backend.py:3445: calling dropout (from tensorflow.python.ops.nn_ops) with keep_prob is deprecated and will be removed in a future version.\n",
      "Instructions for updating:\n",
      "Please use `rate` instead of `keep_prob`. Rate should be set to `rate = 1 - keep_prob`.\n"
     ]
    }
   ],
   "source": [
    "#    第一步：選擇模型, 順序模型是多個網絡層的線性堆疊\n",
    " \n",
    "model = Sequential()\n",
    "\n",
    "#   第二步：構建網絡層\n",
    "model.add(Conv2D(32, (3, 3), padding='same',\n",
    "                 input_shape=x_train.shape[1:]))\n",
    "model.add(Activation('relu'))\n",
    "model.add(Conv2D(32, (3, 3)))\n",
    "model.add(Activation('relu'))\n",
    "model.add(MaxPooling2D(pool_size=(2, 2)))\n",
    "model.add(Dropout(0.25))\n",
    "\n",
    "model.add(Conv2D(64, (3, 3), padding='same'))\n",
    "model.add(Activation('relu'))\n",
    "model.add(Conv2D(64, (3, 3)))\n",
    "model.add(Activation('relu'))\n",
    "model.add(MaxPooling2D(pool_size=(2, 2)))\n",
    "model.add(Dropout(0.25))\n",
    "\n",
    "model.add(Flatten())\n",
    "model.add(Dense(512))\n",
    "model.add(Activation('relu'))\n",
    "model.add(Dropout(0.5))\n",
    "\n",
    "model.add(Dense( 10)) # 輸出結果是10個類別，所以維度是10   \n",
    "model.add(Activation('softmax')) # 最後一層用softmax作為激活函數"
   ]
  },
  {
   "cell_type": "code",
   "execution_count": 6,
   "metadata": {},
   "outputs": [
    {
     "name": "stdout",
     "output_type": "stream",
     "text": [
      "Total Parameters：1250858\n"
     ]
    }
   ],
   "source": [
    "# 模型建立完成後，統計參數總量\n",
    "print(\"Total Parameters：%d\" % model.count_params())"
   ]
  },
  {
   "cell_type": "code",
   "execution_count": 7,
   "metadata": {},
   "outputs": [
    {
     "name": "stdout",
     "output_type": "stream",
     "text": [
      "_________________________________________________________________\n",
      "Layer (type)                 Output Shape              Param #   \n",
      "=================================================================\n",
      "conv2d_1 (Conv2D)            (None, 32, 32, 32)        896       \n",
      "_________________________________________________________________\n",
      "activation_1 (Activation)    (None, 32, 32, 32)        0         \n",
      "_________________________________________________________________\n",
      "conv2d_2 (Conv2D)            (None, 30, 30, 32)        9248      \n",
      "_________________________________________________________________\n",
      "activation_2 (Activation)    (None, 30, 30, 32)        0         \n",
      "_________________________________________________________________\n",
      "max_pooling2d_1 (MaxPooling2 (None, 15, 15, 32)        0         \n",
      "_________________________________________________________________\n",
      "dropout_1 (Dropout)          (None, 15, 15, 32)        0         \n",
      "_________________________________________________________________\n",
      "conv2d_3 (Conv2D)            (None, 15, 15, 64)        18496     \n",
      "_________________________________________________________________\n",
      "activation_3 (Activation)    (None, 15, 15, 64)        0         \n",
      "_________________________________________________________________\n",
      "conv2d_4 (Conv2D)            (None, 13, 13, 64)        36928     \n",
      "_________________________________________________________________\n",
      "activation_4 (Activation)    (None, 13, 13, 64)        0         \n",
      "_________________________________________________________________\n",
      "max_pooling2d_2 (MaxPooling2 (None, 6, 6, 64)          0         \n",
      "_________________________________________________________________\n",
      "dropout_2 (Dropout)          (None, 6, 6, 64)          0         \n",
      "_________________________________________________________________\n",
      "flatten_1 (Flatten)          (None, 2304)              0         \n",
      "_________________________________________________________________\n",
      "dense_1 (Dense)              (None, 512)               1180160   \n",
      "_________________________________________________________________\n",
      "activation_5 (Activation)    (None, 512)               0         \n",
      "_________________________________________________________________\n",
      "dropout_3 (Dropout)          (None, 512)               0         \n",
      "_________________________________________________________________\n",
      "dense_2 (Dense)              (None, 10)                5130      \n",
      "_________________________________________________________________\n",
      "activation_6 (Activation)    (None, 10)                0         \n",
      "=================================================================\n",
      "Total params: 1,250,858\n",
      "Trainable params: 1,250,858\n",
      "Non-trainable params: 0\n",
      "_________________________________________________________________\n"
     ]
    }
   ],
   "source": [
    "# 輸出模型摘要資訊\n",
    "model.summary()"
   ]
  },
  {
   "cell_type": "code",
   "execution_count": 8,
   "metadata": {},
   "outputs": [
    {
     "name": "stderr",
     "output_type": "stream",
     "text": [
      "W0823 09:58:05.211833  7336 deprecation_wrapper.py:119] From D:\\Program Files\\Anaconda3\\lib\\site-packages\\keras\\optimizers.py:790: The name tf.train.Optimizer is deprecated. Please use tf.compat.v1.train.Optimizer instead.\n",
      "\n",
      "W0823 09:58:05.222834  7336 deprecation_wrapper.py:119] From D:\\Program Files\\Anaconda3\\lib\\site-packages\\keras\\backend\\tensorflow_backend.py:3295: The name tf.log is deprecated. Please use tf.math.log instead.\n",
      "\n"
     ]
    }
   ],
   "source": [
    "#第三步編譯\n",
    "'''\n",
    "SGD(隨機梯度下降) - Arguments\n",
    "lr: float >= 0. Learning rate.\n",
    "momentum: float >= 0. Parameter that accelerates SGD in the relevant direction and dampens oscillations.\n",
    "decay: float >= 0. Learning rate decay over each update.\n",
    "nesterov: boolean. Whether to apply Nesterov momentum.\n",
    "'''\n",
    "\n",
    "'''\n",
    "RMSprop- Arguments\n",
    "lr: float >= 0. Learning rate.\n",
    "rho: float >= 0.\n",
    "epsilon: float >= 0. Fuzz factor. If None, defaults to K.epsilon().\n",
    "decay: float >= 0. Learning rate decay over each update.\n",
    "'''\n",
    "\n",
    "'''\n",
    "Example:\n",
    "opt = optimizers.SGD(lr=0.01, decay=1e-6, momentum=0.9, nesterov=True)\n",
    "\n",
    "'''\n",
    "opt = optimizers.SGD(lr=0.01, decay=1e-6, momentum=0.9, nesterov=True)\n",
    "model.compile(optimizer = opt, loss = 'categorical_crossentropy', metrics = ['accuracy'])\n"
   ]
  },
  {
   "cell_type": "code",
   "execution_count": 9,
   "metadata": {},
   "outputs": [],
   "source": [
    "# 資料正規化\n",
    "x_train = x_train.astype('float32')\n",
    "x_test = x_test.astype('float32')\n",
    "x_train /= 255\n",
    "x_test /= 255\n"
   ]
  },
  {
   "cell_type": "code",
   "execution_count": 10,
   "metadata": {},
   "outputs": [
    {
     "name": "stdout",
     "output_type": "stream",
     "text": [
      "Using real-time data augmentation.\n",
      "\n"
     ]
    },
    {
     "name": "stderr",
     "output_type": "stream",
     "text": [
      "W0823 09:58:11.140426  7336 deprecation.py:323] From D:\\Program Files\\Anaconda3\\lib\\site-packages\\tensorflow\\python\\ops\\math_grad.py:1250: add_dispatch_support.<locals>.wrapper (from tensorflow.python.ops.array_ops) is deprecated and will be removed in a future version.\n",
      "Instructions for updating:\n",
      "Use tf.where in 2.0, which has the same broadcast rule as np.where\n"
     ]
    },
    {
     "name": "stdout",
     "output_type": "stream",
     "text": [
      "Train on 50000 samples, validate on 10000 samples\n",
      "Epoch 1/25\n",
      "50000/50000 [==============================] - 115s 2ms/step - loss: 1.7033 - acc: 0.3728 - val_loss: 1.3159 - val_acc: 0.5260\n",
      "Epoch 2/25\n",
      "50000/50000 [==============================] - 114s 2ms/step - loss: 1.2732 - acc: 0.5425 - val_loss: 1.0880 - val_acc: 0.6151\n",
      "Epoch 3/25\n",
      "50000/50000 [==============================] - 114s 2ms/step - loss: 1.1110 - acc: 0.6032 - val_loss: 0.9684 - val_acc: 0.6511\n",
      "Epoch 4/25\n",
      "50000/50000 [==============================] - 114s 2ms/step - loss: 1.0025 - acc: 0.6456 - val_loss: 0.8948 - val_acc: 0.6893\n",
      "Epoch 5/25\n",
      "50000/50000 [==============================] - 115s 2ms/step - loss: 0.9242 - acc: 0.6763 - val_loss: 0.8802 - val_acc: 0.6822\n",
      "Epoch 6/25\n",
      "50000/50000 [==============================] - 115s 2ms/step - loss: 0.8679 - acc: 0.6936 - val_loss: 0.8240 - val_acc: 0.7151\n",
      "Epoch 7/25\n",
      "50000/50000 [==============================] - 115s 2ms/step - loss: 0.8261 - acc: 0.7098 - val_loss: 0.7708 - val_acc: 0.7336\n",
      "Epoch 8/25\n",
      "50000/50000 [==============================] - 116s 2ms/step - loss: 0.7953 - acc: 0.7214 - val_loss: 0.7735 - val_acc: 0.7355\n",
      "Epoch 9/25\n",
      "50000/50000 [==============================] - 115s 2ms/step - loss: 0.7743 - acc: 0.7287 - val_loss: 0.7530 - val_acc: 0.7336\n",
      "Epoch 10/25\n",
      "50000/50000 [==============================] - 115s 2ms/step - loss: 0.7465 - acc: 0.7425 - val_loss: 0.7356 - val_acc: 0.7414\n",
      "Epoch 11/25\n",
      "50000/50000 [==============================] - 116s 2ms/step - loss: 0.7291 - acc: 0.7463 - val_loss: 0.7128 - val_acc: 0.7571\n",
      "Epoch 12/25\n",
      "50000/50000 [==============================] - 115s 2ms/step - loss: 0.7075 - acc: 0.7531 - val_loss: 0.7082 - val_acc: 0.7550\n",
      "Epoch 13/25\n",
      "50000/50000 [==============================] - 115s 2ms/step - loss: 0.7087 - acc: 0.7520 - val_loss: 0.7332 - val_acc: 0.7533\n",
      "Epoch 14/25\n",
      "50000/50000 [==============================] - 115s 2ms/step - loss: 0.6783 - acc: 0.7624 - val_loss: 0.7117 - val_acc: 0.7559\n",
      "Epoch 15/25\n",
      "50000/50000 [==============================] - 115s 2ms/step - loss: 0.6712 - acc: 0.7655 - val_loss: 0.6814 - val_acc: 0.7708\n",
      "Epoch 16/25\n",
      "50000/50000 [==============================] - 117s 2ms/step - loss: 0.6613 - acc: 0.7709 - val_loss: 0.6926 - val_acc: 0.7639\n",
      "Epoch 17/25\n",
      "50000/50000 [==============================] - 115s 2ms/step - loss: 0.6512 - acc: 0.7742 - val_loss: 0.7030 - val_acc: 0.7593\n",
      "Epoch 18/25\n",
      "50000/50000 [==============================] - 115s 2ms/step - loss: 0.6450 - acc: 0.7757 - val_loss: 0.7444 - val_acc: 0.7475\n",
      "Epoch 19/25\n",
      "50000/50000 [==============================] - 116s 2ms/step - loss: 0.6401 - acc: 0.7779 - val_loss: 0.7143 - val_acc: 0.7590\n",
      "Epoch 20/25\n",
      "50000/50000 [==============================] - 116s 2ms/step - loss: 0.6335 - acc: 0.7813 - val_loss: 0.6710 - val_acc: 0.7701\n",
      "Epoch 21/25\n",
      "50000/50000 [==============================] - 114s 2ms/step - loss: 0.6292 - acc: 0.7815 - val_loss: 0.6876 - val_acc: 0.7718\n",
      "Epoch 22/25\n",
      "50000/50000 [==============================] - 111s 2ms/step - loss: 0.6241 - acc: 0.7843 - val_loss: 0.6964 - val_acc: 0.7618\n",
      "Epoch 23/25\n",
      "50000/50000 [==============================] - 112s 2ms/step - loss: 0.6159 - acc: 0.7881 - val_loss: 0.6756 - val_acc: 0.7722\n",
      "Epoch 24/25\n",
      "50000/50000 [==============================] - 112s 2ms/step - loss: 0.6119 - acc: 0.7888 - val_loss: 0.6873 - val_acc: 0.7686\n",
      "Epoch 25/25\n",
      "50000/50000 [==============================] - 112s 2ms/step - loss: 0.6029 - acc: 0.7906 - val_loss: 0.6873 - val_acc: 0.7692\n"
     ]
    },
    {
     "data": {
      "text/plain": [
       "'\\n   第四步：訓練\\n   .fit的一些參數\\n   batch_size：對總的樣本數進行分組，每組包含的樣本數量\\n   epochs ：訓練次數\\n   shuffle：是否把數據隨機打亂之後再進行訓練\\n   validation_split：拿出百分之多少用來做交叉驗證\\n   verbose：屏顯模式 - 0：不輸出, 1：輸出進度, 2：輸出每次的訓練結果\\n'"
      ]
     },
     "execution_count": 10,
     "metadata": {},
     "output_type": "execute_result"
    }
   ],
   "source": [
    "# 是否要做資料處理\n",
    "if not data_augmentation:\n",
    "    print('Not using data augmentation.')\n",
    "    history=model.fit(x_train, y_train,\n",
    "              batch_size=batch_size,\n",
    "              epochs=epochs,\n",
    "              validation_data=(x_test, y_test),\n",
    "              shuffle=True)\n",
    "else:\n",
    "    print('Using real-time data augmentation.')\n",
    "    print('')\n",
    "        \n",
    "    # This will do preprocessing and realtime data augmentation:\n",
    "    datagen = ImageDataGenerator(\n",
    "        featurewise_center=False,  # set input mean to 0 over the dataset\n",
    "        samplewise_center=False,  # set each sample mean to 0\n",
    "        featurewise_std_normalization=False,  # divide inputs by std of the dataset\n",
    "        samplewise_std_normalization=False,  # divide each input by its std\n",
    "        zca_whitening=False,  # apply ZCA whitening\n",
    "        zca_epsilon=1e-06,  # epsilon for ZCA whitening\n",
    "        rotation_range=0,  # randomly rotate images in the range (degrees, 0 to 180)\n",
    "        # randomly shift images horizontally (fraction of total width)\n",
    "        width_shift_range=0.1,\n",
    "        # randomly shift images vertically (fraction of total height)\n",
    "        height_shift_range=0.1,\n",
    "        shear_range=0.,  # set range for random shear\n",
    "        zoom_range=0.,  # set range for random zoom\n",
    "        channel_shift_range=0.,  # set range for random channel shifts\n",
    "        # set mode for filling points outside the input boundaries\n",
    "        fill_mode='nearest',\n",
    "        cval=0.,  # value used for fill_mode = \"constant\"\n",
    "        horizontal_flip=True,  # randomly flip images\n",
    "        vertical_flip=False,  # randomly flip images\n",
    "        # set rescaling factor (applied before any other transformation)\n",
    "        rescale=None,\n",
    "        # set function that will be applied on each input\n",
    "        preprocessing_function=None,\n",
    "        # image data format, either \"channels_first\" or \"channels_last\"\n",
    "        data_format=None,\n",
    "        # fraction of images reserved for validation (strictly between 0 and 1)\n",
    "        validation_split=0.0)\n",
    "\n",
    "    # Compute quantities required for feature-wise normalization\n",
    "    # (std, mean, and principal components if ZCA whitening is applied).\n",
    "    datagen.fit(x_train)\n",
    "    history=model.fit(x_train, y_train,\n",
    "              batch_size=batch_size,\n",
    "              epochs=epochs,\n",
    "              validation_data=(x_test, y_test),\n",
    "              shuffle=True)   \n",
    "\n",
    "'''\n",
    "   第四步：訓練\n",
    "   .fit的一些參數\n",
    "   batch_size：對總的樣本數進行分組，每組包含的樣本數量\n",
    "   epochs ：訓練次數\n",
    "   shuffle：是否把數據隨機打亂之後再進行訓練\n",
    "   validation_split：拿出百分之多少用來做交叉驗證\n",
    "   verbose：屏顯模式 - 0：不輸出, 1：輸出進度, 2：輸出每次的訓練結果\n",
    "''' \n",
    "    "
   ]
  },
  {
   "cell_type": "code",
   "execution_count": 11,
   "metadata": {},
   "outputs": [
    {
     "name": "stdout",
     "output_type": "stream",
     "text": [
      "Saved trained model at C:\\Users\\chenyu.tsai\\Documents\\saved_models\\keras_cifar10_trained_model.h5 \n",
      "10000/10000 [==============================] - 4s 353us/step\n",
      "Test loss: 0.687294944858551\n",
      "Test accuracy: 0.7692\n"
     ]
    }
   ],
   "source": [
    "# Save model and weights\n",
    "if not os.path.isdir(save_dir):\n",
    "    os.makedirs(save_dir)\n",
    "model_path = os.path.join(save_dir, model_name)\n",
    "model.save(model_path)\n",
    "print('Saved trained model at %s ' % model_path)\n",
    "\n",
    "# Score trained model.\n",
    "scores = model.evaluate(x_test, y_test, verbose=1)\n",
    "print('Test loss:', scores[0])\n",
    "print('Test accuracy:', scores[1])"
   ]
  },
  {
   "cell_type": "code",
   "execution_count": 12,
   "metadata": {},
   "outputs": [
    {
     "name": "stdout",
     "output_type": "stream",
     "text": [
      " test set \n",
      "\n",
      " The test loss is %f  [0.687294944524765, 0.7692000007629395]\n"
     ]
    }
   ],
   "source": [
    "#    第六步：輸出\n",
    "import numpy \n",
    "\n",
    "print ( \" test set \" )\n",
    "scores = model.evaluate(x_test,y_test,batch_size=200,verbose= 0)\n",
    "print ( \"\" )\n",
    "#print ( \" The test loss is %f \" % scores)\n",
    "print ( \" The test loss is %f \", scores)\n",
    "\n",
    "\n",
    "result = model.predict(x_test,batch_size=200,verbose= 0)\n",
    "\n",
    "result_max = numpy.argmax(result, axis = 1 )\n",
    "test_max = numpy.argmax(y_test, axis = 1 )\n",
    "\n",
    "result_bool = numpy.equal(result_max, test_max)\n",
    "true_num = numpy.sum(result_bool)\n"
   ]
  },
  {
   "cell_type": "code",
   "execution_count": 13,
   "metadata": {},
   "outputs": [
    {
     "data": {
      "image/png": "[encoded data removed]",
      "text/plain": [
       "<Figure size 432x288 with 1 Axes>"
      ]
     },
     "metadata": {
      "needs_background": "light"
     },
     "output_type": "display_data"
    },
    {
     "data": {
      "image/png": "[encoded data removed]",
      "text/plain": [
       "<Figure size 432x288 with 1 Axes>"
      ]
     },
     "metadata": {
      "needs_background": "light"
     },
     "output_type": "display_data"
    }
   ],
   "source": [
    "import matplotlib.pyplot as plt\n",
    "%matplotlib inline\n",
    "\n",
    "# Plot training & validation accuracy values\n",
    "plt.plot(history.history['acc'])\n",
    "plt.plot(history.history['val_acc'])\n",
    "plt.title('Model accuracy')\n",
    "plt.ylabel('Accuracy')\n",
    "plt.xlabel('Epoch')\n",
    "plt.legend(['Train', 'Valiidation'], loc='upper left')\n",
    "plt.show()\n",
    "\n",
    "# Plot training & validation loss values\n",
    "plt.plot(history.history['loss'])\n",
    "plt.plot(history.history['val_loss'])\n",
    "plt.title('Model loss')\n",
    "plt.ylabel('Loss')\n",
    "plt.xlabel('Epoch')\n",
    "plt.legend(['Train', 'Valiidation'], loc='upper left')\n",
    "plt.show()"
   ]
  },
  {
   "cell_type": "code",
   "execution_count": 15,
   "metadata": {},
   "outputs": [],
   "source": [
    "adam = optimizers.Adam(lr=0.001, beta_1=0.9, beta_2=0.999, epsilon=None, decay=0.0, amsgrad=False)\n",
    "model.compile(optimizer = adam, loss = 'categorical_crossentropy', metrics = ['accuracy'])"
   ]
  },
  {
   "cell_type": "code",
   "execution_count": 16,
   "metadata": {},
   "outputs": [],
   "source": [
    "# 資料正規化\n",
    "x_train = x_train.astype('float32')\n",
    "x_test = x_test.astype('float32')\n",
    "x_train /= 255\n",
    "x_test /= 255"
   ]
  },
  {
   "cell_type": "code",
   "execution_count": 17,
   "metadata": {},
   "outputs": [
    {
     "name": "stdout",
     "output_type": "stream",
     "text": [
      "Using real-time data augmentation.\n",
      "\n",
      "Train on 50000 samples, validate on 10000 samples\n",
      "Epoch 1/25\n",
      "50000/50000 [==============================] - 125s 2ms/step - loss: 2.2720 - acc: 0.1424 - val_loss: 2.0056 - val_acc: 0.2843\n",
      "Epoch 2/25\n",
      "50000/50000 [==============================] - 125s 2ms/step - loss: 2.0251 - acc: 0.2630 - val_loss: 1.9394 - val_acc: 0.3042\n",
      "Epoch 3/25\n",
      "50000/50000 [==============================] - 125s 3ms/step - loss: 1.9417 - acc: 0.2993 - val_loss: 1.9288 - val_acc: 0.2992\n",
      "Epoch 4/25\n",
      "50000/50000 [==============================] - 130s 3ms/step - loss: 1.8952 - acc: 0.3162 - val_loss: 1.9203 - val_acc: 0.2946\n",
      "Epoch 5/25\n",
      "50000/50000 [==============================] - 125s 3ms/step - loss: 1.8583 - acc: 0.3282 - val_loss: 1.8476 - val_acc: 0.3302\n",
      "Epoch 6/25\n",
      "50000/50000 [==============================] - 127s 3ms/step - loss: 1.8081 - acc: 0.3505 - val_loss: 1.9470 - val_acc: 0.2977\n",
      "Epoch 7/25\n",
      "50000/50000 [==============================] - 127s 3ms/step - loss: 1.7746 - acc: 0.3605 - val_loss: 1.8308 - val_acc: 0.3445\n",
      "Epoch 8/25\n",
      "50000/50000 [==============================] - 126s 3ms/step - loss: 1.7448 - acc: 0.3717 - val_loss: 1.9503 - val_acc: 0.3086\n",
      "Epoch 9/25\n",
      "50000/50000 [==============================] - 127s 3ms/step - loss: 1.7209 - acc: 0.3781 - val_loss: 1.8463 - val_acc: 0.3530\n",
      "Epoch 10/25\n",
      "50000/50000 [==============================] - 122s 2ms/step - loss: 1.6844 - acc: 0.3917 - val_loss: 1.8371 - val_acc: 0.3586\n",
      "Epoch 11/25\n",
      "50000/50000 [==============================] - 127s 3ms/step - loss: 1.6515 - acc: 0.4004 - val_loss: 1.8096 - val_acc: 0.3626\n",
      "Epoch 12/25\n",
      "50000/50000 [==============================] - 127s 3ms/step - loss: 1.6217 - acc: 0.4147 - val_loss: 1.7645 - val_acc: 0.3831\n",
      "Epoch 13/25\n",
      "50000/50000 [==============================] - 129s 3ms/step - loss: 1.5857 - acc: 0.4253 - val_loss: 2.0442 - val_acc: 0.3266\n",
      "Epoch 14/25\n",
      "50000/50000 [==============================] - 128s 3ms/step - loss: 1.5674 - acc: 0.4308 - val_loss: 1.7091 - val_acc: 0.4120\n",
      "Epoch 15/25\n",
      "50000/50000 [==============================] - 128s 3ms/step - loss: 1.5434 - acc: 0.4434 - val_loss: 1.7704 - val_acc: 0.3897\n",
      "Epoch 16/25\n",
      "50000/50000 [==============================] - 127s 3ms/step - loss: 1.5244 - acc: 0.4488 - val_loss: 1.8405 - val_acc: 0.3776\n",
      "Epoch 17/25\n",
      "50000/50000 [==============================] - 127s 3ms/step - loss: 1.5014 - acc: 0.4576 - val_loss: 1.8005 - val_acc: 0.4036\n",
      "Epoch 18/25\n",
      "50000/50000 [==============================] - 129s 3ms/step - loss: 1.4724 - acc: 0.4670 - val_loss: 2.0396 - val_acc: 0.3635\n",
      "Epoch 19/25\n",
      "50000/50000 [==============================] - 127s 3ms/step - loss: 1.4515 - acc: 0.4749 - val_loss: 1.6549 - val_acc: 0.4422\n",
      "Epoch 20/25\n",
      "50000/50000 [==============================] - 128s 3ms/step - loss: 1.4325 - acc: 0.4847 - val_loss: 1.4949 - val_acc: 0.4869\n",
      "Epoch 21/25\n",
      "50000/50000 [==============================] - 128s 3ms/step - loss: 1.4164 - acc: 0.4906 - val_loss: 1.6786 - val_acc: 0.4363\n",
      "Epoch 22/25\n",
      "50000/50000 [==============================] - 122s 2ms/step - loss: 1.3962 - acc: 0.4966 - val_loss: 1.6213 - val_acc: 0.4574\n",
      "Epoch 23/25\n",
      "50000/50000 [==============================] - 122s 2ms/step - loss: 1.3767 - acc: 0.5029 - val_loss: 1.6210 - val_acc: 0.4518\n",
      "Epoch 24/25\n",
      "50000/50000 [==============================] - 122s 2ms/step - loss: 1.3583 - acc: 0.5131 - val_loss: 1.5312 - val_acc: 0.4787\n",
      "Epoch 25/25\n",
      "50000/50000 [==============================] - 128s 3ms/step - loss: 1.3380 - acc: 0.5224 - val_loss: 1.5225 - val_acc: 0.4753\n"
     ]
    },
    {
     "data": {
      "text/plain": [
       "'\\n   第四步：訓練\\n   .fit的一些參數\\n   batch_size：對總的樣本數進行分組，每組包含的樣本數量\\n   epochs ：訓練次數\\n   shuffle：是否把數據隨機打亂之後再進行訓練\\n   validation_split：拿出百分之多少用來做交叉驗證\\n   verbose：屏顯模式 - 0：不輸出, 1：輸出進度, 2：輸出每次的訓練結果\\n'"
      ]
     },
     "execution_count": 17,
     "metadata": {},
     "output_type": "execute_result"
    }
   ],
   "source": [
    "# 是否要做資料處理\n",
    "if not data_augmentation:\n",
    "    print('Not using data augmentation.')\n",
    "    history=model.fit(x_train, y_train,\n",
    "              batch_size=batch_size,\n",
    "              epochs=epochs,\n",
    "              validation_data=(x_test, y_test),\n",
    "              shuffle=True)\n",
    "else:\n",
    "    print('Using real-time data augmentation.')\n",
    "    print('')\n",
    "        \n",
    "    # This will do preprocessing and realtime data augmentation:\n",
    "    datagen = ImageDataGenerator(\n",
    "        featurewise_center=False,  # set input mean to 0 over the dataset\n",
    "        samplewise_center=False,  # set each sample mean to 0\n",
    "        featurewise_std_normalization=False,  # divide inputs by std of the dataset\n",
    "        samplewise_std_normalization=False,  # divide each input by its std\n",
    "        zca_whitening=False,  # apply ZCA whitening\n",
    "        zca_epsilon=1e-06,  # epsilon for ZCA whitening\n",
    "        rotation_range=0,  # randomly rotate images in the range (degrees, 0 to 180)\n",
    "        # randomly shift images horizontally (fraction of total width)\n",
    "        width_shift_range=0.1,\n",
    "        # randomly shift images vertically (fraction of total height)\n",
    "        height_shift_range=0.1,\n",
    "        shear_range=0.,  # set range for random shear\n",
    "        zoom_range=0.,  # set range for random zoom\n",
    "        channel_shift_range=0.,  # set range for random channel shifts\n",
    "        # set mode for filling points outside the input boundaries\n",
    "        fill_mode='nearest',\n",
    "        cval=0.,  # value used for fill_mode = \"constant\"\n",
    "        horizontal_flip=True,  # randomly flip images\n",
    "        vertical_flip=False,  # randomly flip images\n",
    "        # set rescaling factor (applied before any other transformation)\n",
    "        rescale=None,\n",
    "        # set function that will be applied on each input\n",
    "        preprocessing_function=None,\n",
    "        # image data format, either \"channels_first\" or \"channels_last\"\n",
    "        data_format=None,\n",
    "        # fraction of images reserved for validation (strictly between 0 and 1)\n",
    "        validation_split=0.0)\n",
    "\n",
    "    # Compute quantities required for feature-wise normalization\n",
    "    # (std, mean, and principal components if ZCA whitening is applied).\n",
    "    datagen.fit(x_train)\n",
    "    history=model.fit(x_train, y_train,\n",
    "              batch_size=batch_size,\n",
    "              epochs=epochs,\n",
    "              validation_data=(x_test, y_test),\n",
    "              shuffle=True)   \n",
    "\n",
    "'''\n",
    "   第四步：訓練\n",
    "   .fit的一些參數\n",
    "   batch_size：對總的樣本數進行分組，每組包含的樣本數量\n",
    "   epochs ：訓練次數\n",
    "   shuffle：是否把數據隨機打亂之後再進行訓練\n",
    "   validation_split：拿出百分之多少用來做交叉驗證\n",
    "   verbose：屏顯模式 - 0：不輸出, 1：輸出進度, 2：輸出每次的訓練結果\n",
    "''' \n",
    "    "
   ]
  },
  {
   "cell_type": "code",
   "execution_count": 18,
   "metadata": {},
   "outputs": [
    {
     "name": "stdout",
     "output_type": "stream",
     "text": [
      "Saved trained model at C:\\Users\\chenyu.tsai\\Documents\\saved_models\\keras_cifar10_trained_model.h5 \n",
      "10000/10000 [==============================] - 4s 358us/step\n",
      "Test loss: 1.5224781976699828\n",
      "Test accuracy: 0.4753\n"
     ]
    }
   ],
   "source": [
    "# Save model and weights\n",
    "if not os.path.isdir(save_dir):\n",
    "    os.makedirs(save_dir)\n",
    "model_path = os.path.join(save_dir, model_name)\n",
    "model.save(model_path)\n",
    "print('Saved trained model at %s ' % model_path)\n",
    "\n",
    "# Score trained model.\n",
    "scores = model.evaluate(x_test, y_test, verbose=1)\n",
    "print('Test loss:', scores[0])\n",
    "print('Test accuracy:', scores[1])"
   ]
  },
  {
   "cell_type": "code",
   "execution_count": 19,
   "metadata": {},
   "outputs": [
    {
     "name": "stdout",
     "output_type": "stream",
     "text": [
      " test set \n",
      "\n",
      " The test loss is %f  [1.5224782061576843, 0.4752999985218048]\n"
     ]
    }
   ],
   "source": [
    "#    第六步：輸出\n",
    "import numpy \n",
    "\n",
    "print ( \" test set \" )\n",
    "scores = model.evaluate(x_test,y_test,batch_size=200,verbose= 0)\n",
    "print ( \"\" )\n",
    "#print ( \" The test loss is %f \" % scores)\n",
    "print ( \" The test loss is %f \", scores)\n",
    "\n",
    "\n",
    "result = model.predict(x_test,batch_size=200,verbose= 0)\n",
    "\n",
    "result_max = numpy.argmax(result, axis = 1 )\n",
    "test_max = numpy.argmax(y_test, axis = 1 )\n",
    "\n",
    "result_bool = numpy.equal(result_max, test_max)\n",
    "true_num = numpy.sum(result_bool)"
   ]
  },
  {
   "cell_type": "code",
   "execution_count": 20,
   "metadata": {},
   "outputs": [
    {
     "data": {
      "image/png": "[encoded data removed]",
      "text/plain": [
       "<Figure size 432x288 with 1 Axes>"
      ]
     },
     "metadata": {
      "needs_background": "light"
     },
     "output_type": "display_data"
    },
    {
     "data": {
      "image/png": "[encoded data removed]",
      "text/plain": [
       "<Figure size 432x288 with 1 Axes>"
      ]
     },
     "metadata": {
      "needs_background": "light"
     },
     "output_type": "display_data"
    }
   ],
   "source": [
    "# Plot training & validation accuracy values\n",
    "plt.plot(history.history['acc'])\n",
    "plt.plot(history.history['val_acc'])\n",
    "plt.title('Model accuracy')\n",
    "plt.ylabel('Accuracy')\n",
    "plt.xlabel('Epoch')\n",
    "plt.legend(['Train', 'Valiidation'], loc='upper left')\n",
    "plt.show()\n",
    "\n",
    "# Plot training & validation loss values\n",
    "plt.plot(history.history['loss'])\n",
    "plt.plot(history.history['val_loss'])\n",
    "plt.title('Model loss')\n",
    "plt.ylabel('Loss')\n",
    "plt.xlabel('Epoch')\n",
    "plt.legend(['Train', 'Valiidation'], loc='upper left')\n",
    "plt.show()"
   ]
  },
  {
   "cell_type": "code",
   "execution_count": 25,
   "metadata": {},
   "outputs": [],
   "source": [
    "rmsprop = optimizers.RMSprop(lr=0.001, rho=0.9, epsilon=None, decay=0.0)\n",
    "model.compile(optimizer = rmsprop, loss = 'categorical_crossentropy', metrics = ['accuracy'])"
   ]
  },
  {
   "cell_type": "code",
   "execution_count": 26,
   "metadata": {},
   "outputs": [],
   "source": [
    "# 資料正規化\n",
    "x_train = x_train.astype('float32')\n",
    "x_test = x_test.astype('float32')\n",
    "x_train /= 255\n",
    "x_test /= 255"
   ]
  },
  {
   "cell_type": "code",
   "execution_count": 27,
   "metadata": {},
   "outputs": [
    {
     "name": "stdout",
     "output_type": "stream",
     "text": [
      "Using real-time data augmentation.\n",
      "\n",
      "Train on 50000 samples, validate on 10000 samples\n",
      "Epoch 1/25\n",
      "50000/50000 [==============================] - 120s 2ms/step - loss: 2.3795 - acc: 0.2236 - val_loss: 1.7786 - val_acc: 0.3375\n",
      "Epoch 2/25\n",
      "50000/50000 [==============================] - 120s 2ms/step - loss: 1.7731 - acc: 0.3454 - val_loss: 1.6015 - val_acc: 0.4128\n",
      "Epoch 3/25\n",
      "50000/50000 [==============================] - 120s 2ms/step - loss: 1.7256 - acc: 0.3740 - val_loss: 1.6126 - val_acc: 0.3986\n",
      "Epoch 4/25\n",
      "50000/50000 [==============================] - 121s 2ms/step - loss: 1.7130 - acc: 0.3804 - val_loss: 1.5848 - val_acc: 0.4096\n",
      "Epoch 5/25\n",
      "50000/50000 [==============================] - 122s 2ms/step - loss: 1.7053 - acc: 0.3817 - val_loss: 1.6253 - val_acc: 0.3917\n",
      "Epoch 6/25\n",
      "50000/50000 [==============================] - 121s 2ms/step - loss: 1.7112 - acc: 0.3809 - val_loss: 1.6489 - val_acc: 0.3884\n",
      "Epoch 7/25\n",
      "50000/50000 [==============================] - 122s 2ms/step - loss: 1.7275 - acc: 0.3778 - val_loss: 1.6002 - val_acc: 0.4176\n",
      "Epoch 8/25\n",
      "50000/50000 [==============================] - 121s 2ms/step - loss: 1.7277 - acc: 0.3829 - val_loss: 1.6322 - val_acc: 0.4036\n",
      "Epoch 9/25\n",
      "50000/50000 [==============================] - 122s 2ms/step - loss: 1.7470 - acc: 0.3706 - val_loss: 1.6519 - val_acc: 0.4011\n",
      "Epoch 10/25\n",
      "50000/50000 [==============================] - 122s 2ms/step - loss: 1.7404 - acc: 0.3730 - val_loss: 1.6567 - val_acc: 0.4070\n",
      "Epoch 11/25\n",
      "50000/50000 [==============================] - 122s 2ms/step - loss: 1.7406 - acc: 0.3747 - val_loss: 1.6218 - val_acc: 0.3988\n",
      "Epoch 12/25\n",
      "50000/50000 [==============================] - 122s 2ms/step - loss: 1.7423 - acc: 0.3731 - val_loss: 1.9770 - val_acc: 0.3108\n",
      "Epoch 13/25\n",
      "50000/50000 [==============================] - 124s 2ms/step - loss: 1.7452 - acc: 0.3723 - val_loss: 1.6868 - val_acc: 0.3846\n",
      "Epoch 14/25\n",
      "50000/50000 [==============================] - 122s 2ms/step - loss: 1.7498 - acc: 0.3687 - val_loss: 1.7596 - val_acc: 0.3701\n",
      "Epoch 15/25\n",
      "50000/50000 [==============================] - 123s 2ms/step - loss: 1.7579 - acc: 0.3642 - val_loss: 1.7331 - val_acc: 0.3748\n",
      "Epoch 16/25\n",
      "50000/50000 [==============================] - 123s 2ms/step - loss: 1.7637 - acc: 0.3588 - val_loss: 1.6151 - val_acc: 0.3944\n",
      "Epoch 17/25\n",
      "50000/50000 [==============================] - 122s 2ms/step - loss: 1.7616 - acc: 0.3603 - val_loss: 1.5982 - val_acc: 0.4040\n",
      "Epoch 18/25\n",
      "50000/50000 [==============================] - 121s 2ms/step - loss: 1.7540 - acc: 0.3652 - val_loss: 1.7467 - val_acc: 0.3704\n",
      "Epoch 19/25\n",
      "50000/50000 [==============================] - 122s 2ms/step - loss: 1.7610 - acc: 0.3575 - val_loss: 1.6263 - val_acc: 0.3943\n",
      "Epoch 20/25\n",
      "50000/50000 [==============================] - 124s 2ms/step - loss: 1.7507 - acc: 0.3631 - val_loss: 1.7189 - val_acc: 0.3727\n",
      "Epoch 21/25\n",
      "50000/50000 [==============================] - 122s 2ms/step - loss: 1.7450 - acc: 0.3665 - val_loss: 1.6463 - val_acc: 0.3812\n",
      "Epoch 22/25\n",
      "50000/50000 [==============================] - 122s 2ms/step - loss: 1.7573 - acc: 0.3618 - val_loss: 1.6469 - val_acc: 0.3924\n",
      "Epoch 23/25\n",
      "50000/50000 [==============================] - 122s 2ms/step - loss: 1.7485 - acc: 0.3655 - val_loss: 1.6175 - val_acc: 0.4058\n",
      "Epoch 24/25\n",
      "50000/50000 [==============================] - 122s 2ms/step - loss: 1.7490 - acc: 0.3674 - val_loss: 1.5685 - val_acc: 0.4121\n",
      "Epoch 25/25\n",
      "50000/50000 [==============================] - 123s 2ms/step - loss: 1.7482 - acc: 0.3650 - val_loss: 1.6062 - val_acc: 0.3937\n"
     ]
    },
    {
     "data": {
      "text/plain": [
       "'\\n   第四步：訓練\\n   .fit的一些參數\\n   batch_size：對總的樣本數進行分組，每組包含的樣本數量\\n   epochs ：訓練次數\\n   shuffle：是否把數據隨機打亂之後再進行訓練\\n   validation_split：拿出百分之多少用來做交叉驗證\\n   verbose：屏顯模式 - 0：不輸出, 1：輸出進度, 2：輸出每次的訓練結果\\n'"
      ]
     },
     "execution_count": 27,
     "metadata": {},
     "output_type": "execute_result"
    }
   ],
   "source": [
    "# 是否要做資料處理\n",
    "if not data_augmentation:\n",
    "    print('Not using data augmentation.')\n",
    "    history=model.fit(x_train, y_train,\n",
    "              batch_size=batch_size,\n",
    "              epochs=epochs,\n",
    "              validation_data=(x_test, y_test),\n",
    "              shuffle=True)\n",
    "else:\n",
    "    print('Using real-time data augmentation.')\n",
    "    print('')\n",
    "        \n",
    "    # This will do preprocessing and realtime data augmentation:\n",
    "    datagen = ImageDataGenerator(\n",
    "        featurewise_center=False,  # set input mean to 0 over the dataset\n",
    "        samplewise_center=False,  # set each sample mean to 0\n",
    "        featurewise_std_normalization=False,  # divide inputs by std of the dataset\n",
    "        samplewise_std_normalization=False,  # divide each input by its std\n",
    "        zca_whitening=False,  # apply ZCA whitening\n",
    "        zca_epsilon=1e-06,  # epsilon for ZCA whitening\n",
    "        rotation_range=0,  # randomly rotate images in the range (degrees, 0 to 180)\n",
    "        # randomly shift images horizontally (fraction of total width)\n",
    "        width_shift_range=0.1,\n",
    "        # randomly shift images vertically (fraction of total height)\n",
    "        height_shift_range=0.1,\n",
    "        shear_range=0.,  # set range for random shear\n",
    "        zoom_range=0.,  # set range for random zoom\n",
    "        channel_shift_range=0.,  # set range for random channel shifts\n",
    "        # set mode for filling points outside the input boundaries\n",
    "        fill_mode='nearest',\n",
    "        cval=0.,  # value used for fill_mode = \"constant\"\n",
    "        horizontal_flip=True,  # randomly flip images\n",
    "        vertical_flip=False,  # randomly flip images\n",
    "        # set rescaling factor (applied before any other transformation)\n",
    "        rescale=None,\n",
    "        # set function that will be applied on each input\n",
    "        preprocessing_function=None,\n",
    "        # image data format, either \"channels_first\" or \"channels_last\"\n",
    "        data_format=None,\n",
    "        # fraction of images reserved for validation (strictly between 0 and 1)\n",
    "        validation_split=0.0)\n",
    "\n",
    "    # Compute quantities required for feature-wise normalization\n",
    "    # (std, mean, and principal components if ZCA whitening is applied).\n",
    "    datagen.fit(x_train)\n",
    "    history=model.fit(x_train, y_train,\n",
    "              batch_size=batch_size,\n",
    "              epochs=epochs,\n",
    "              validation_data=(x_test, y_test),\n",
    "              shuffle=True)   \n",
    "\n",
    "'''\n",
    "   第四步：訓練\n",
    "   .fit的一些參數\n",
    "   batch_size：對總的樣本數進行分組，每組包含的樣本數量\n",
    "   epochs ：訓練次數\n",
    "   shuffle：是否把數據隨機打亂之後再進行訓練\n",
    "   validation_split：拿出百分之多少用來做交叉驗證\n",
    "   verbose：屏顯模式 - 0：不輸出, 1：輸出進度, 2：輸出每次的訓練結果\n",
    "''' "
   ]
  },
  {
   "cell_type": "code",
   "execution_count": 28,
   "metadata": {},
   "outputs": [
    {
     "name": "stdout",
     "output_type": "stream",
     "text": [
      "Saved trained model at C:\\Users\\chenyu.tsai\\Documents\\saved_models\\keras_cifar10_trained_model.h5 \n",
      "10000/10000 [==============================] - 4s 357us/step\n",
      "Test loss: 1.6061874750137328\n",
      "Test accuracy: 0.3937\n"
     ]
    }
   ],
   "source": [
    "# Save model and weights\n",
    "if not os.path.isdir(save_dir):\n",
    "    os.makedirs(save_dir)\n",
    "model_path = os.path.join(save_dir, model_name)\n",
    "model.save(model_path)\n",
    "print('Saved trained model at %s ' % model_path)\n",
    "\n",
    "# Score trained model.\n",
    "scores = model.evaluate(x_test, y_test, verbose=1)\n",
    "print('Test loss:', scores[0])\n",
    "print('Test accuracy:', scores[1])"
   ]
  },
  {
   "cell_type": "code",
   "execution_count": 29,
   "metadata": {},
   "outputs": [
    {
     "name": "stdout",
     "output_type": "stream",
     "text": [
      " test set \n",
      "\n",
      " The test loss is %f  [1.6061874890327454, 0.39370000004768374]\n"
     ]
    }
   ],
   "source": [
    "#    第六步：輸出\n",
    "import numpy \n",
    "\n",
    "print ( \" test set \" )\n",
    "scores = model.evaluate(x_test,y_test,batch_size=200,verbose= 0)\n",
    "print ( \"\" )\n",
    "#print ( \" The test loss is %f \" % scores)\n",
    "print ( \" The test loss is %f \", scores)\n",
    "\n",
    "\n",
    "result = model.predict(x_test,batch_size=200,verbose= 0)\n",
    "\n",
    "result_max = numpy.argmax(result, axis = 1 )\n",
    "test_max = numpy.argmax(y_test, axis = 1 )\n",
    "\n",
    "result_bool = numpy.equal(result_max, test_max)\n",
    "true_num = numpy.sum(result_bool)"
   ]
  },
  {
   "cell_type": "code",
   "execution_count": 30,
   "metadata": {},
   "outputs": [
    {
     "data": {
      "image/png": "[encoded data removed]",
      "text/plain": [
       "<Figure size 432x288 with 1 Axes>"
      ]
     },
     "metadata": {
      "needs_background": "light"
     },
     "output_type": "display_data"
    },
    {
     "data": {
      "image/png": "[encoded data removed]",
      "text/plain": [
       "<Figure size 432x288 with 1 Axes>"
      ]
     },
     "metadata": {
      "needs_background": "light"
     },
     "output_type": "display_data"
    }
   ],
   "source": [
    "# Plot training & validation accuracy values\n",
    "plt.plot(history.history['acc'])\n",
    "plt.plot(history.history['val_acc'])\n",
    "plt.title('Model accuracy')\n",
    "plt.ylabel('Accuracy')\n",
    "plt.xlabel('Epoch')\n",
    "plt.legend(['Train', 'Valiidation'], loc='upper left')\n",
    "plt.show()\n",
    "\n",
    "# Plot training & validation loss values\n",
    "plt.plot(history.history['loss'])\n",
    "plt.plot(history.history['val_loss'])\n",
    "plt.title('Model loss')\n",
    "plt.ylabel('Loss')\n",
    "plt.xlabel('Epoch')\n",
    "plt.legend(['Train', 'Valiidation'], loc='upper left')\n",
    "plt.show()"
   ]
  },
  {
   "cell_type": "code",
   "execution_count": 32,
   "metadata": {},
   "outputs": [
    {
     "name": "stdout",
     "output_type": "stream",
     "text": [
      "Using real-time data augmentation.\n",
      "\n",
      "Train on 50000 samples, validate on 10000 samples\n",
      "Epoch 1/25\n",
      "50000/50000 [==============================] - 191s 4ms/step - loss: 1.7778 - acc: 0.3378 - val_loss: 1.7028 - val_acc: 0.3630\n",
      "Epoch 2/25\n",
      "50000/50000 [==============================] - 194s 4ms/step - loss: 1.7116 - acc: 0.3634 - val_loss: 1.6301 - val_acc: 0.4029\n",
      "Epoch 3/25\n",
      "50000/50000 [==============================] - 190s 4ms/step - loss: 1.6444 - acc: 0.3876 - val_loss: 1.5465 - val_acc: 0.4444\n",
      "Epoch 4/25\n",
      "50000/50000 [==============================] - 193s 4ms/step - loss: 1.5895 - acc: 0.4143 - val_loss: 1.4556 - val_acc: 0.4657\n",
      "Epoch 5/25\n",
      "50000/50000 [==============================] - 193s 4ms/step - loss: 1.5365 - acc: 0.4408 - val_loss: 1.4999 - val_acc: 0.4490\n",
      "Epoch 6/25\n",
      "50000/50000 [==============================] - 194s 4ms/step - loss: 1.4940 - acc: 0.4547 - val_loss: 1.3687 - val_acc: 0.5046\n",
      "Epoch 7/25\n",
      "50000/50000 [==============================] - 195s 4ms/step - loss: 1.4633 - acc: 0.4707 - val_loss: 1.3474 - val_acc: 0.5247\n",
      "Epoch 8/25\n",
      "50000/50000 [==============================] - 193s 4ms/step - loss: 1.4343 - acc: 0.4774 - val_loss: 1.3202 - val_acc: 0.5156\n",
      "Epoch 9/25\n",
      "50000/50000 [==============================] - 194s 4ms/step - loss: 1.4141 - acc: 0.4889 - val_loss: 1.3089 - val_acc: 0.5277\n",
      "Epoch 10/25\n",
      "50000/50000 [==============================] - 194s 4ms/step - loss: 1.3921 - acc: 0.4966 - val_loss: 1.2830 - val_acc: 0.5355\n",
      "Epoch 11/25\n",
      "50000/50000 [==============================] - 194s 4ms/step - loss: 1.3707 - acc: 0.5050 - val_loss: 1.2676 - val_acc: 0.5511\n",
      "Epoch 12/25\n",
      "50000/50000 [==============================] - 195s 4ms/step - loss: 1.3558 - acc: 0.5103 - val_loss: 1.2527 - val_acc: 0.5490\n",
      "Epoch 13/25\n",
      "50000/50000 [==============================] - 195s 4ms/step - loss: 1.3418 - acc: 0.5157 - val_loss: 1.2070 - val_acc: 0.5704\n",
      "Epoch 14/25\n",
      "50000/50000 [==============================] - 195s 4ms/step - loss: 1.3231 - acc: 0.5217 - val_loss: 1.2389 - val_acc: 0.5540\n",
      "Epoch 15/25\n",
      "50000/50000 [==============================] - 191s 4ms/step - loss: 1.3052 - acc: 0.5334 - val_loss: 1.1866 - val_acc: 0.5733\n",
      "Epoch 16/25\n",
      "50000/50000 [==============================] - 191s 4ms/step - loss: 1.2944 - acc: 0.5376 - val_loss: 1.1749 - val_acc: 0.5788\n",
      "Epoch 17/25\n",
      "50000/50000 [==============================] - 188s 4ms/step - loss: 1.2803 - acc: 0.5416 - val_loss: 1.1638 - val_acc: 0.5858\n",
      "Epoch 18/25\n",
      "50000/50000 [==============================] - 189s 4ms/step - loss: 1.2805 - acc: 0.5407 - val_loss: 1.1763 - val_acc: 0.5796\n",
      "Epoch 19/25\n",
      "50000/50000 [==============================] - 187s 4ms/step - loss: 1.2694 - acc: 0.5454 - val_loss: 1.2761 - val_acc: 0.5518\n",
      "Epoch 20/25\n",
      "50000/50000 [==============================] - 185s 4ms/step - loss: 1.2589 - acc: 0.5519 - val_loss: 1.1789 - val_acc: 0.5737\n",
      "Epoch 21/25\n",
      "50000/50000 [==============================] - 186s 4ms/step - loss: 1.2518 - acc: 0.5563 - val_loss: 1.1634 - val_acc: 0.5811\n",
      "Epoch 22/25\n",
      "50000/50000 [==============================] - 186s 4ms/step - loss: 1.2400 - acc: 0.5596 - val_loss: 1.1363 - val_acc: 0.5926\n",
      "Epoch 23/25\n",
      "50000/50000 [==============================] - 214s 4ms/step - loss: 1.2335 - acc: 0.5599 - val_loss: 1.1507 - val_acc: 0.5889\n",
      "Epoch 24/25\n",
      "50000/50000 [==============================] - 223s 4ms/step - loss: 1.2210 - acc: 0.5658 - val_loss: 1.1111 - val_acc: 0.6017\n",
      "Epoch 25/25\n",
      "50000/50000 [==============================] - 209s 4ms/step - loss: 1.2192 - acc: 0.5663 - val_loss: 1.1297 - val_acc: 0.5916\n"
     ]
    },
    {
     "data": {
      "text/plain": [
       "'\\n   第四步：訓練\\n   .fit的一些參數\\n   batch_size：對總的樣本數進行分組，每組包含的樣本數量\\n   epochs ：訓練次數\\n   shuffle：是否把數據隨機打亂之後再進行訓練\\n   validation_split：拿出百分之多少用來做交叉驗證\\n   verbose：屏顯模式 - 0：不輸出, 1：輸出進度, 2：輸出每次的訓練結果\\n'"
      ]
     },
     "execution_count": 32,
     "metadata": {},
     "output_type": "execute_result"
    }
   ],
   "source": [
    "batch_size = 10\n",
    "epochs = 25\n",
    "\n",
    "adam = optimizers.Adam(lr=0.001, beta_1=0.9, beta_2=0.999, epsilon=None, decay=0.0, amsgrad=False)\n",
    "model.compile(optimizer = adam, loss = 'categorical_crossentropy', metrics = ['accuracy'])\n",
    "\n",
    "# 是否要做資料處理\n",
    "if not data_augmentation:\n",
    "    print('Not using data augmentation.')\n",
    "    history=model.fit(x_train, y_train,\n",
    "              batch_size=batch_size,\n",
    "              epochs=epochs,\n",
    "              validation_data=(x_test, y_test),\n",
    "              shuffle=True)\n",
    "else:\n",
    "    print('Using real-time data augmentation.')\n",
    "    print('')\n",
    "        \n",
    "    # This will do preprocessing and realtime data augmentation:\n",
    "    datagen = ImageDataGenerator(\n",
    "        featurewise_center=False,  # set input mean to 0 over the dataset\n",
    "        samplewise_center=False,  # set each sample mean to 0\n",
    "        featurewise_std_normalization=False,  # divide inputs by std of the dataset\n",
    "        samplewise_std_normalization=False,  # divide each input by its std\n",
    "        zca_whitening=False,  # apply ZCA whitening\n",
    "        zca_epsilon=1e-06,  # epsilon for ZCA whitening\n",
    "        rotation_range=0,  # randomly rotate images in the range (degrees, 0 to 180)\n",
    "        # randomly shift images horizontally (fraction of total width)\n",
    "        width_shift_range=0.1,\n",
    "        # randomly shift images vertically (fraction of total height)\n",
    "        height_shift_range=0.1,\n",
    "        shear_range=0.,  # set range for random shear\n",
    "        zoom_range=0.,  # set range for random zoom\n",
    "        channel_shift_range=0.,  # set range for random channel shifts\n",
    "        # set mode for filling points outside the input boundaries\n",
    "        fill_mode='nearest',\n",
    "        cval=0.,  # value used for fill_mode = \"constant\"\n",
    "        horizontal_flip=True,  # randomly flip images\n",
    "        vertical_flip=False,  # randomly flip images\n",
    "        # set rescaling factor (applied before any other transformation)\n",
    "        rescale=None,\n",
    "        # set function that will be applied on each input\n",
    "        preprocessing_function=None,\n",
    "        # image data format, either \"channels_first\" or \"channels_last\"\n",
    "        data_format=None,\n",
    "        # fraction of images reserved for validation (strictly between 0 and 1)\n",
    "        validation_split=0.0)\n",
    "\n",
    "    # Compute quantities required for feature-wise normalization\n",
    "    # (std, mean, and principal components if ZCA whitening is applied).\n",
    "    datagen.fit(x_train)\n",
    "    history=model.fit(x_train, y_train,\n",
    "              batch_size=batch_size,\n",
    "              epochs=epochs,\n",
    "              validation_data=(x_test, y_test),\n",
    "              shuffle=True)   \n",
    "\n",
    "'''\n",
    "   第四步：訓練\n",
    "   .fit的一些參數\n",
    "   batch_size：對總的樣本數進行分組，每組包含的樣本數量\n",
    "   epochs ：訓練次數\n",
    "   shuffle：是否把數據隨機打亂之後再進行訓練\n",
    "   validation_split：拿出百分之多少用來做交叉驗證\n",
    "   verbose：屏顯模式 - 0：不輸出, 1：輸出進度, 2：輸出每次的訓練結果\n",
    "''' \n",
    "    "
   ]
  },
  {
   "cell_type": "code",
   "execution_count": 33,
   "metadata": {},
   "outputs": [
    {
     "name": "stdout",
     "output_type": "stream",
     "text": [
      "Using real-time data augmentation.\n",
      "\n",
      "Train on 50000 samples, validate on 10000 samples\n",
      "Epoch 1/30\n",
      "50000/50000 [==============================] - 103s 2ms/step - loss: 1.1401 - acc: 0.5918 - val_loss: 1.0715 - val_acc: 0.6224\n",
      "Epoch 2/30\n",
      "50000/50000 [==============================] - 98s 2ms/step - loss: 1.1199 - acc: 0.6004 - val_loss: 1.0310 - val_acc: 0.6362\n",
      "Epoch 3/30\n",
      "50000/50000 [==============================] - 94s 2ms/step - loss: 1.1099 - acc: 0.6035 - val_loss: 1.0313 - val_acc: 0.6332\n",
      "Epoch 4/30\n",
      "50000/50000 [==============================] - 103s 2ms/step - loss: 1.0988 - acc: 0.6089 - val_loss: 1.0487 - val_acc: 0.6341\n",
      "Epoch 5/30\n",
      "50000/50000 [==============================] - 103s 2ms/step - loss: 1.0884 - acc: 0.6117 - val_loss: 1.0153 - val_acc: 0.6422\n",
      "Epoch 6/30\n",
      "50000/50000 [==============================] - 110s 2ms/step - loss: 1.0849 - acc: 0.6138 - val_loss: 1.0596 - val_acc: 0.6291\n",
      "Epoch 7/30\n",
      "50000/50000 [==============================] - 103s 2ms/step - loss: 1.0711 - acc: 0.6205 - val_loss: 1.0291 - val_acc: 0.6385\n",
      "Epoch 8/30\n",
      "50000/50000 [==============================] - 98s 2ms/step - loss: 1.0674 - acc: 0.6197 - val_loss: 1.0107 - val_acc: 0.6406\n",
      "Epoch 9/30\n",
      "50000/50000 [==============================] - 100s 2ms/step - loss: 1.0644 - acc: 0.6196 - val_loss: 1.0041 - val_acc: 0.6438\n",
      "Epoch 10/30\n",
      "50000/50000 [==============================] - 99s 2ms/step - loss: 1.0567 - acc: 0.6239 - val_loss: 0.9931 - val_acc: 0.6492\n",
      "Epoch 11/30\n",
      "50000/50000 [==============================] - 107s 2ms/step - loss: 1.0465 - acc: 0.6266 - val_loss: 0.9922 - val_acc: 0.6492\n",
      "Epoch 12/30\n",
      "50000/50000 [==============================] - 96s 2ms/step - loss: 1.0445 - acc: 0.6266 - val_loss: 0.9885 - val_acc: 0.6499\n",
      "Epoch 13/30\n",
      "50000/50000 [==============================] - 94s 2ms/step - loss: 1.0417 - acc: 0.6298 - val_loss: 1.0148 - val_acc: 0.6384\n",
      "Epoch 14/30\n",
      "50000/50000 [==============================] - 92s 2ms/step - loss: 1.0413 - acc: 0.6303 - val_loss: 0.9854 - val_acc: 0.6473\n",
      "Epoch 15/30\n",
      "50000/50000 [==============================] - 93s 2ms/step - loss: 1.0338 - acc: 0.6318 - val_loss: 0.9889 - val_acc: 0.6528\n",
      "Epoch 16/30\n",
      "50000/50000 [==============================] - 92s 2ms/step - loss: 1.0306 - acc: 0.6358 - val_loss: 0.9750 - val_acc: 0.6556\n",
      "Epoch 17/30\n",
      "50000/50000 [==============================] - 92s 2ms/step - loss: 1.0224 - acc: 0.6361 - val_loss: 0.9796 - val_acc: 0.6524\n",
      "Epoch 18/30\n",
      "50000/50000 [==============================] - 95s 2ms/step - loss: 1.0193 - acc: 0.6379 - val_loss: 0.9589 - val_acc: 0.6607\n",
      "Epoch 19/30\n",
      "50000/50000 [==============================] - 94s 2ms/step - loss: 1.0172 - acc: 0.6403 - val_loss: 0.9789 - val_acc: 0.6501\n",
      "Epoch 20/30\n",
      "50000/50000 [==============================] - 98s 2ms/step - loss: 1.0048 - acc: 0.6405 - val_loss: 0.9604 - val_acc: 0.6564\n",
      "Epoch 21/30\n",
      "50000/50000 [==============================] - 96s 2ms/step - loss: 0.9995 - acc: 0.6441 - val_loss: 0.9633 - val_acc: 0.6578\n",
      "Epoch 22/30\n",
      "50000/50000 [==============================] - 97s 2ms/step - loss: 0.9974 - acc: 0.6431 - val_loss: 0.9729 - val_acc: 0.6595\n",
      "Epoch 23/30\n",
      "50000/50000 [==============================] - 96s 2ms/step - loss: 0.9888 - acc: 0.6468 - val_loss: 0.9667 - val_acc: 0.6549\n",
      "Epoch 24/30\n",
      "50000/50000 [==============================] - 105s 2ms/step - loss: 0.9872 - acc: 0.6482 - val_loss: 0.9597 - val_acc: 0.6624\n",
      "Epoch 25/30\n",
      "50000/50000 [==============================] - 99s 2ms/step - loss: 0.9814 - acc: 0.6510 - val_loss: 0.9474 - val_acc: 0.6621\n",
      "Epoch 26/30\n",
      "50000/50000 [==============================] - 95s 2ms/step - loss: 0.9774 - acc: 0.6554 - val_loss: 0.9387 - val_acc: 0.6645\n",
      "Epoch 27/30\n",
      "50000/50000 [==============================] - 100s 2ms/step - loss: 0.9625 - acc: 0.6561 - val_loss: 0.9313 - val_acc: 0.6698\n",
      "Epoch 28/30\n",
      "50000/50000 [==============================] - 95s 2ms/step - loss: 0.9653 - acc: 0.6571 - val_loss: 0.9494 - val_acc: 0.6602\n",
      "Epoch 29/30\n",
      "50000/50000 [==============================] - 95s 2ms/step - loss: 0.9602 - acc: 0.6615 - val_loss: 0.9407 - val_acc: 0.6638\n",
      "Epoch 30/30\n",
      "50000/50000 [==============================] - 93s 2ms/step - loss: 0.9603 - acc: 0.6586 - val_loss: 0.9310 - val_acc: 0.6715\n"
     ]
    },
    {
     "data": {
      "text/plain": [
       "'\\n   第四步：訓練\\n   .fit的一些參數\\n   batch_size：對總的樣本數進行分組，每組包含的樣本數量\\n   epochs ：訓練次數\\n   shuffle：是否把數據隨機打亂之後再進行訓練\\n   validation_split：拿出百分之多少用來做交叉驗證\\n   verbose：屏顯模式 - 0：不輸出, 1：輸出進度, 2：輸出每次的訓練結果\\n'"
      ]
     },
     "execution_count": 33,
     "metadata": {},
     "output_type": "execute_result"
    }
   ],
   "source": [
    "batch_size = 128\n",
    "epochs = 30\n",
    "\n",
    "adam = optimizers.Adam(lr=0.001, beta_1=0.9, beta_2=0.999, epsilon=None, decay=0.0, amsgrad=False)\n",
    "model.compile(optimizer = adam, loss = 'categorical_crossentropy', metrics = ['accuracy'])\n",
    "\n",
    "# 是否要做資料處理\n",
    "if not data_augmentation:\n",
    "    print('Not using data augmentation.')\n",
    "    history=model.fit(x_train, y_train,\n",
    "              batch_size=batch_size,\n",
    "              epochs=epochs,\n",
    "              validation_data=(x_test, y_test),\n",
    "              shuffle=True)\n",
    "else:\n",
    "    print('Using real-time data augmentation.')\n",
    "    print('')\n",
    "        \n",
    "    # This will do preprocessing and realtime data augmentation:\n",
    "    datagen = ImageDataGenerator(\n",
    "        featurewise_center=False,  # set input mean to 0 over the dataset\n",
    "        samplewise_center=False,  # set each sample mean to 0\n",
    "        featurewise_std_normalization=False,  # divide inputs by std of the dataset\n",
    "        samplewise_std_normalization=False,  # divide each input by its std\n",
    "        zca_whitening=False,  # apply ZCA whitening\n",
    "        zca_epsilon=1e-06,  # epsilon for ZCA whitening\n",
    "        rotation_range=0,  # randomly rotate images in the range (degrees, 0 to 180)\n",
    "        # randomly shift images horizontally (fraction of total width)\n",
    "        width_shift_range=0.1,\n",
    "        # randomly shift images vertically (fraction of total height)\n",
    "        height_shift_range=0.1,\n",
    "        shear_range=0.,  # set range for random shear\n",
    "        zoom_range=0.,  # set range for random zoom\n",
    "        channel_shift_range=0.,  # set range for random channel shifts\n",
    "        # set mode for filling points outside the input boundaries\n",
    "        fill_mode='nearest',\n",
    "        cval=0.,  # value used for fill_mode = \"constant\"\n",
    "        horizontal_flip=True,  # randomly flip images\n",
    "        vertical_flip=False,  # randomly flip images\n",
    "        # set rescaling factor (applied before any other transformation)\n",
    "        rescale=None,\n",
    "        # set function that will be applied on each input\n",
    "        preprocessing_function=None,\n",
    "        # image data format, either \"channels_first\" or \"channels_last\"\n",
    "        data_format=None,\n",
    "        # fraction of images reserved for validation (strictly between 0 and 1)\n",
    "        validation_split=0.0)\n",
    "\n",
    "    # Compute quantities required for feature-wise normalization\n",
    "    # (std, mean, and principal components if ZCA whitening is applied).\n",
    "    datagen.fit(x_train)\n",
    "    history=model.fit(x_train, y_train,\n",
    "              batch_size=batch_size,\n",
    "              epochs=epochs,\n",
    "              validation_data=(x_test, y_test),\n",
    "              shuffle=True)   \n",
    "\n",
    "'''\n",
    "   第四步：訓練\n",
    "   .fit的一些參數\n",
    "   batch_size：對總的樣本數進行分組，每組包含的樣本數量\n",
    "   epochs ：訓練次數\n",
    "   shuffle：是否把數據隨機打亂之後再進行訓練\n",
    "   validation_split：拿出百分之多少用來做交叉驗證\n",
    "   verbose：屏顯模式 - 0：不輸出, 1：輸出進度, 2：輸出每次的訓練結果\n",
    "''' \n",
    "    "
   ]
  },
  {
   "cell_type": "code",
   "execution_count": 8,
   "metadata": {},
   "outputs": [
    {
     "name": "stderr",
     "output_type": "stream",
     "text": [
      "W0827 10:19:14.831087  6052 deprecation_wrapper.py:119] From D:\\Program Files\\Anaconda3\\lib\\site-packages\\keras\\optimizers.py:790: The name tf.train.Optimizer is deprecated. Please use tf.compat.v1.train.Optimizer instead.\n",
      "\n",
      "W0827 10:19:14.839088  6052 deprecation_wrapper.py:119] From D:\\Program Files\\Anaconda3\\lib\\site-packages\\keras\\backend\\tensorflow_backend.py:3295: The name tf.log is deprecated. Please use tf.math.log instead.\n",
      "\n"
     ]
    },
    {
     "name": "stdout",
     "output_type": "stream",
     "text": [
      "Using real-time data augmentation.\n",
      "\n"
     ]
    },
    {
     "name": "stderr",
     "output_type": "stream",
     "text": [
      "W0827 10:19:15.380141  6052 deprecation.py:323] From D:\\Program Files\\Anaconda3\\lib\\site-packages\\tensorflow\\python\\ops\\math_grad.py:1250: add_dispatch_support.<locals>.wrapper (from tensorflow.python.ops.array_ops) is deprecated and will be removed in a future version.\n",
      "Instructions for updating:\n",
      "Use tf.where in 2.0, which has the same broadcast rule as np.where\n"
     ]
    },
    {
     "name": "stdout",
     "output_type": "stream",
     "text": [
      "Train on 50000 samples, validate on 10000 samples\n",
      "Epoch 1/50\n",
      "50000/50000 [==============================] - 105s 2ms/step - loss: 14.5021 - acc: 0.1001 - val_loss: 14.5063 - val_acc: 0.1000\n",
      "Epoch 2/50\n",
      "50000/50000 [==============================] - 93s 2ms/step - loss: 14.5063 - acc: 0.1000 - val_loss: 14.5063 - val_acc: 0.1000\n",
      "Epoch 3/50\n",
      "50000/50000 [==============================] - 99s 2ms/step - loss: 14.5063 - acc: 0.1000 - val_loss: 14.5063 - val_acc: 0.1000\n",
      "Epoch 4/50\n",
      "50000/50000 [==============================] - 101s 2ms/step - loss: 14.5063 - acc: 0.1000 - val_loss: 14.5063 - val_acc: 0.1000\n",
      "Epoch 5/50\n",
      "50000/50000 [==============================] - 92s 2ms/step - loss: 14.5063 - acc: 0.1000 - val_loss: 14.5063 - val_acc: 0.1000\n",
      "Epoch 6/50\n",
      "50000/50000 [==============================] - 100s 2ms/step - loss: 14.5063 - acc: 0.1000 - val_loss: 14.5063 - val_acc: 0.1000\n",
      "Epoch 7/50\n",
      "50000/50000 [==============================] - 96s 2ms/step - loss: 14.4842 - acc: 0.1014 - val_loss: 14.5063 - val_acc: 0.1000\n",
      "Epoch 8/50\n",
      "50000/50000 [==============================] - 86s 2ms/step - loss: 14.5066 - acc: 0.1000 - val_loss: 14.5063 - val_acc: 0.1000\n",
      "Epoch 9/50\n",
      "50000/50000 [==============================] - 86s 2ms/step - loss: 14.5073 - acc: 0.0999 - val_loss: 14.5063 - val_acc: 0.1000\n",
      "Epoch 10/50\n",
      "50000/50000 [==============================] - 86s 2ms/step - loss: 14.5073 - acc: 0.0999 - val_loss: 14.5063 - val_acc: 0.1000\n",
      "Epoch 11/50\n",
      "50000/50000 [==============================] - 93s 2ms/step - loss: 14.5079 - acc: 0.0999 - val_loss: 14.5063 - val_acc: 0.1000\n",
      "Epoch 12/50\n",
      "50000/50000 [==============================] - 88s 2ms/step - loss: 14.5073 - acc: 0.0999 - val_loss: 14.5063 - val_acc: 0.1000\n",
      "Epoch 13/50\n",
      "50000/50000 [==============================] - 88s 2ms/step - loss: 14.5063 - acc: 0.1000 - val_loss: 14.5063 - val_acc: 0.1000\n",
      "Epoch 14/50\n",
      "50000/50000 [==============================] - 93s 2ms/step - loss: 14.5082 - acc: 0.0999 - val_loss: 14.5063 - val_acc: 0.1000\n",
      "Epoch 15/50\n",
      "50000/50000 [==============================] - 91s 2ms/step - loss: 14.5073 - acc: 0.0999 - val_loss: 14.5063 - val_acc: 0.1000\n",
      "Epoch 16/50\n",
      "50000/50000 [==============================] - 92s 2ms/step - loss: 14.5056 - acc: 0.1000 - val_loss: 14.5063 - val_acc: 0.1000\n",
      "Epoch 17/50\n",
      "50000/50000 [==============================] - 93s 2ms/step - loss: 14.5053 - acc: 0.1001 - val_loss: 14.5063 - val_acc: 0.1000\n",
      "Epoch 18/50\n",
      "50000/50000 [==============================] - 91s 2ms/step - loss: 14.5056 - acc: 0.1000 - val_loss: 14.5063 - val_acc: 0.1000\n",
      "Epoch 19/50\n",
      "50000/50000 [==============================] - 88s 2ms/step - loss: 14.5053 - acc: 0.1001 - val_loss: 14.5063 - val_acc: 0.1000\n",
      "Epoch 20/50\n",
      "50000/50000 [==============================] - 91s 2ms/step - loss: 14.5040 - acc: 0.1001 - val_loss: 14.5063 - val_acc: 0.1000\n",
      "Epoch 21/50\n",
      "50000/50000 [==============================] - 95s 2ms/step - loss: 14.5053 - acc: 0.1001 - val_loss: 14.5063 - val_acc: 0.1000\n",
      "Epoch 22/50\n",
      "50000/50000 [==============================] - 88s 2ms/step - loss: 14.5066 - acc: 0.1000 - val_loss: 14.5063 - val_acc: 0.1000\n",
      "Epoch 23/50\n",
      "50000/50000 [==============================] - 91s 2ms/step - loss: 14.5063 - acc: 0.1000 - val_loss: 14.5063 - val_acc: 0.1000\n",
      "Epoch 24/50\n",
      "50000/50000 [==============================] - 86s 2ms/step - loss: 14.5056 - acc: 0.1000 - val_loss: 14.5063 - val_acc: 0.1000\n",
      "Epoch 25/50\n",
      "50000/50000 [==============================] - 88s 2ms/step - loss: 14.5092 - acc: 0.0998 - val_loss: 14.5063 - val_acc: 0.1000\n",
      "Epoch 26/50\n",
      "50000/50000 [==============================] - 89s 2ms/step - loss: 14.5085 - acc: 0.0999 - val_loss: 14.5063 - val_acc: 0.1000\n",
      "Epoch 27/50\n",
      "50000/50000 [==============================] - 88s 2ms/step - loss: 14.5047 - acc: 0.1001 - val_loss: 14.5063 - val_acc: 0.1000\n",
      "Epoch 28/50\n",
      "50000/50000 [==============================] - 89s 2ms/step - loss: 14.5069 - acc: 0.1000 - val_loss: 14.5063 - val_acc: 0.1000\n",
      "Epoch 29/50\n",
      "50000/50000 [==============================] - 87s 2ms/step - loss: 14.5076 - acc: 0.0999 - val_loss: 14.5063 - val_acc: 0.1000\n",
      "Epoch 30/50\n",
      "50000/50000 [==============================] - 87s 2ms/step - loss: 14.5037 - acc: 0.1002 - val_loss: 14.5063 - val_acc: 0.1000\n",
      "Epoch 31/50\n",
      "50000/50000 [==============================] - 95s 2ms/step - loss: 14.5050 - acc: 0.1001 - val_loss: 14.5063 - val_acc: 0.1000\n",
      "Epoch 32/50\n",
      "50000/50000 [==============================] - 91s 2ms/step - loss: 14.5102 - acc: 0.0998 - val_loss: 14.5063 - val_acc: 0.1000\n",
      "Epoch 33/50\n",
      "50000/50000 [==============================] - 88s 2ms/step - loss: 14.5034 - acc: 0.1002 - val_loss: 14.5063 - val_acc: 0.1000\n",
      "Epoch 34/50\n",
      "50000/50000 [==============================] - 90s 2ms/step - loss: 14.5056 - acc: 0.1000 - val_loss: 14.5063 - val_acc: 0.1000\n",
      "Epoch 35/50\n",
      "50000/50000 [==============================] - 91s 2ms/step - loss: 14.5073 - acc: 0.0999 - val_loss: 14.5063 - val_acc: 0.1000\n",
      "Epoch 36/50\n",
      "50000/50000 [==============================] - 91s 2ms/step - loss: 14.4979 - acc: 0.1005 - val_loss: 14.5063 - val_acc: 0.1000\n",
      "Epoch 37/50\n",
      "50000/50000 [==============================] - 90s 2ms/step - loss: 14.5063 - acc: 0.1000 - val_loss: 14.5063 - val_acc: 0.1000\n",
      "Epoch 38/50\n",
      "50000/50000 [==============================] - 95s 2ms/step - loss: 14.5063 - acc: 0.1000 - val_loss: 14.5063 - val_acc: 0.1000\n",
      "Epoch 39/50\n",
      "50000/50000 [==============================] - 93s 2ms/step - loss: 14.5063 - acc: 0.1000 - val_loss: 14.5063 - val_acc: 0.1000\n",
      "Epoch 40/50\n",
      "50000/50000 [==============================] - 93s 2ms/step - loss: 14.5063 - acc: 0.1000 - val_loss: 14.5063 - val_acc: 0.1000\n",
      "Epoch 41/50\n",
      "50000/50000 [==============================] - 93s 2ms/step - loss: 14.5063 - acc: 0.1000 - val_loss: 14.5063 - val_acc: 0.1000\n",
      "Epoch 42/50\n",
      "50000/50000 [==============================] - 88s 2ms/step - loss: 14.5063 - acc: 0.1000 - val_loss: 14.5063 - val_acc: 0.1000\n",
      "Epoch 43/50\n",
      "50000/50000 [==============================] - 88s 2ms/step - loss: 14.5063 - acc: 0.1000 - val_loss: 14.5063 - val_acc: 0.1000\n",
      "Epoch 44/50\n",
      "50000/50000 [==============================] - 87s 2ms/step - loss: 14.5063 - acc: 0.1000 - val_loss: 14.5063 - val_acc: 0.1000\n",
      "Epoch 45/50\n",
      "50000/50000 [==============================] - 88s 2ms/step - loss: 14.5063 - acc: 0.1000 - val_loss: 14.5063 - val_acc: 0.1000\n",
      "Epoch 46/50\n",
      "50000/50000 [==============================] - 89s 2ms/step - loss: 14.5063 - acc: 0.1000 - val_loss: 14.5063 - val_acc: 0.1000\n",
      "Epoch 47/50\n",
      "50000/50000 [==============================] - 87s 2ms/step - loss: 14.5063 - acc: 0.1000 - val_loss: 14.5063 - val_acc: 0.1000\n",
      "Epoch 48/50\n",
      "50000/50000 [==============================] - 88s 2ms/step - loss: 14.5063 - acc: 0.1000 - val_loss: 14.5063 - val_acc: 0.1000\n",
      "Epoch 49/50\n",
      "50000/50000 [==============================] - 93s 2ms/step - loss: 14.5063 - acc: 0.1000 - val_loss: 14.5063 - val_acc: 0.1000\n",
      "Epoch 50/50\n",
      "50000/50000 [==============================] - 96s 2ms/step - loss: 14.5063 - acc: 0.1000 - val_loss: 14.5063 - val_acc: 0.1000\n"
     ]
    },
    {
     "data": {
      "text/plain": [
       "'\\n   第四步：訓練\\n   .fit的一些參數\\n   batch_size：對總的樣本數進行分組，每組包含的樣本數量\\n   epochs ：訓練次數\\n   shuffle：是否把數據隨機打亂之後再進行訓練\\n   validation_split：拿出百分之多少用來做交叉驗證\\n   verbose：屏顯模式 - 0：不輸出, 1：輸出進度, 2：輸出每次的訓練結果\\n'"
      ]
     },
     "execution_count": 8,
     "metadata": {},
     "output_type": "execute_result"
    }
   ],
   "source": [
    "batch_size = 256\n",
    "epochs = 50\n",
    "\n",
    "adam = optimizers.Adam(lr=0.001, beta_1=0.9, beta_2=0.999, epsilon=None, decay=0.0, amsgrad=False)\n",
    "model.compile(optimizer = adam, loss = 'categorical_crossentropy', metrics = ['accuracy'])\n",
    "\n",
    "# 是否要做資料處理\n",
    "if not data_augmentation:\n",
    "    print('Not using data augmentation.')\n",
    "    history=model.fit(x_train, y_train,\n",
    "              batch_size=batch_size,\n",
    "              epochs=epochs,\n",
    "              validation_data=(x_test, y_test),\n",
    "              shuffle=True)\n",
    "else:\n",
    "    print('Using real-time data augmentation.')\n",
    "    print('')\n",
    "        \n",
    "    # This will do preprocessing and realtime data augmentation:\n",
    "    datagen = ImageDataGenerator(\n",
    "        featurewise_center=False,  # set input mean to 0 over the dataset\n",
    "        samplewise_center=False,  # set each sample mean to 0\n",
    "        featurewise_std_normalization=False,  # divide inputs by std of the dataset\n",
    "        samplewise_std_normalization=False,  # divide each input by its std\n",
    "        zca_whitening=False,  # apply ZCA whitening\n",
    "        zca_epsilon=1e-06,  # epsilon for ZCA whitening\n",
    "        rotation_range=0,  # randomly rotate images in the range (degrees, 0 to 180)\n",
    "        # randomly shift images horizontally (fraction of total width)\n",
    "        width_shift_range=0.1,\n",
    "        # randomly shift images vertically (fraction of total height)\n",
    "        height_shift_range=0.1,\n",
    "        shear_range=0.,  # set range for random shear\n",
    "        zoom_range=0.,  # set range for random zoom\n",
    "        channel_shift_range=0.,  # set range for random channel shifts\n",
    "        # set mode for filling points outside the input boundaries\n",
    "        fill_mode='nearest',\n",
    "        cval=0.,  # value used for fill_mode = \"constant\"\n",
    "        horizontal_flip=True,  # randomly flip images\n",
    "        vertical_flip=False,  # randomly flip images\n",
    "        # set rescaling factor (applied before any other transformation)\n",
    "        rescale=None,\n",
    "        # set function that will be applied on each input\n",
    "        preprocessing_function=None,\n",
    "        # image data format, either \"channels_first\" or \"channels_last\"\n",
    "        data_format=None,\n",
    "        # fraction of images reserved for validation (strictly between 0 and 1)\n",
    "        validation_split=0.0)\n",
    "\n",
    "    # Compute quantities required for feature-wise normalization\n",
    "    # (std, mean, and principal components if ZCA whitening is applied).\n",
    "    datagen.fit(x_train)\n",
    "    history=model.fit(x_train, y_train,\n",
    "              batch_size=batch_size,\n",
    "              epochs=epochs,\n",
    "              validation_data=(x_test, y_test),\n",
    "              shuffle=True)   \n",
    "\n",
    "'''\n",
    "   第四步：訓練\n",
    "   .fit的一些參數\n",
    "   batch_size：對總的樣本數進行分組，每組包含的樣本數量\n",
    "   epochs ：訓練次數\n",
    "   shuffle：是否把數據隨機打亂之後再進行訓練\n",
    "   validation_split：拿出百分之多少用來做交叉驗證\n",
    "   verbose：屏顯模式 - 0：不輸出, 1：輸出進度, 2：輸出每次的訓練結果\n",
    "''' \n",
    "    "
   ]
  },
  {
   "cell_type": "code",
   "execution_count": null,
   "metadata": {},
   "outputs": [],
   "source": []
  }
 ],
 "metadata": {
  "kernelspec": {
   "display_name": "Python 3",
   "language": "python",
   "name": "python3"
  },
  "language_info": {
   "codemirror_mode": {
    "name": "ipython",
    "version": 3
   },
   "file_extension": ".py",
   "mimetype": "text/x-python",
   "name": "python",
   "nbconvert_exporter": "python",
   "pygments_lexer": "ipython3",
   "version": "3.7.3"
  }
 },
 "nbformat": 4,
 "nbformat_minor": 2
}
