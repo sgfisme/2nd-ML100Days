{
 "cells": [
  {
   "cell_type": "markdown",
   "metadata": {},
   "source": [
    "作業1. 請上 Kaggle, 在 Competitions 或 Dataset 中找一組競賽或資料並寫下：\n",
    "\n",
    "1. 你選的這組資料為何重要\n",
    "\n",
    "2. 資料從何而來 (tips: 譬如提供者是誰、以什麼方式蒐集)\n",
    "\n",
    "3. 蒐集而來的資料型態為何\n",
    "\n",
    "4. 這組資料想解決的問題如何評估\n",
    "\n",
    "解答:\n",
    "\n",
    "我在 Kaggle 上選擇的是 LANL Earthquake Prediction 這組競賽題目\n",
    "\n",
    "1. 選擇它的原因是每次地震發生後，總是有可能伴隨著大規模的傷害，例如318東日本大地震，因此若能有效預測地震可能發生的時間、地點與震幅，就可能將每次地震帶來的傷害降到最低，對人類與公眾利益有利。\n",
    "\n",
    "2. 資料是由 Los Alamos National Laboratory 的 B. Rouet-Leduc 提供，是透過用於研究地震學的著名實驗裝置所蒐集。\n",
    "\n",
    "3. 蒐集來的資料型態為數值，其資料欄位定義如下:\n",
    "   \n",
    "   (1) acoustic_data: 地震訊號[int16]\n",
    "   \n",
    "   (2) time_to_failure: 距離下一次實驗室地震的剩餘時間[float64]\n",
    "   \n",
    "   (3) seg_id: 測試區段的 ID (每一次預測為一個測試區段)\n",
    "\n",
    "4. 這組競賽的目標是利用地震信號預測實驗室地震的時間，藉由地震訊號 (acoustic_data) 的輸入，來預測下一次實驗室地震 (time_to_failure) 之前的剩餘時間，如果剩餘時間越接近，則預測越準確。"
   ]
  },
  {
   "cell_type": "markdown",
   "metadata": {},
   "source": [
    "作業2：\n",
    "\n",
    "想像你經營一個自由載客車隊，你希望能透過數據分析以提升業績，請你思考並描述你如何規劃整體的分析/解決方案：\n",
    "\n",
    "1. 核心問題為何 (tips：如何定義 「提升業績 & 你的假設」)\n",
    "\n",
    "2. 資料從何而來 (tips：哪些資料可能會對你想問的問題產生影響 & 資料如何蒐集)\n",
    "\n",
    "3. 蒐集而來的資料型態為何\n",
    "\n",
    "4. 你要回答的問題，其如何評估 (tips：你的假設如何驗證)\n",
    "\n",
    "解答:\n",
    "\n",
    "1. 目前自由載客車隊多是透過網路推薦或是 App 方式進行攬客與派車服務，若想提升業績\n",
    "\n",
    "   ，如果能夠縮短司機前往客人所在地的時間或距離，提升每位司機的載客量，並縮短空車\n",
    "\n",
    "   時間，就能夠有效提升業績。\n",
    "\n",
    "2. 透過派車的歷史資料來分析每個時間區段，每個區域的叫車人數以及每位司機的載客量\n",
    "\n",
    "3. 蒐集來的資料型態為數值型態:\n",
    "\n",
    "   (1) time_series: 以 20 分鐘為一個單位\n",
    "\n",
    "   (2) district: 行政區域\n",
    "\n",
    "   (3) customer_count: 叫車人數\n",
    "\n",
    "   (4) order_by_each_driver: 每位司機的載客量\n",
    "\n",
    "4. 透過分析推薦附近的司機提前前往該時間區段較多叫車人數的區域等待，若每位司機的載\n",
    "\n",
    "   客量均有提升，代表驗證成功。\n"
   ]
  },
  {
   "cell_type": "markdown",
   "metadata": {},
   "source": [
    "## 練習時間\n",
    "#### 請寫一個函式用來計算 Mean Square Error\n",
    "$ MSE = \\frac{1}{n}\\sum_{i=1}^{n}{(Y_i - \\hat{Y}_i)^2} $\n",
    "\n",
    "### Hint: [如何取平方](https://googoodesign.gitbooks.io/-ezpython/unit-1.html)"
   ]
  },
  {
   "cell_type": "code",
   "execution_count": 49,
   "metadata": {},
   "outputs": [],
   "source": [
    "import numpy as np\n",
    "import matplotlib.pyplot as plt"
   ]
  },
  {
   "cell_type": "code",
   "execution_count": 50,
   "metadata": {},
   "outputs": [],
   "source": [
    "def mean_squared_error(y, y_hat):\n",
    "    # Find the error(y-y_hat)\n",
    "    error = []\n",
    "    \n",
    "    for iCount in range(len(y)):\n",
    "        error.append(y[iCount] - y_hat[iCount])\n",
    "    \n",
    "    # Square the error\n",
    "    squaredError = []\n",
    "    \n",
    "    for val in error:\n",
    "        squaredError.append(val * val)\n",
    "    \n",
    "    return sum(squaredError) / len(squaredError)\n",
    "\n",
    "def mean_absolute_error(y, y_hat):\n",
    "    # Find the error(y-y_hat)\n",
    "    error = []\n",
    "    \n",
    "    for iCount in range(len(y)):\n",
    "        error.append(y[iCount] - y_hat[iCount])\n",
    "    \n",
    "    # Absolute the error\n",
    "    absolutedError = []\n",
    "    \n",
    "    for val in error:\n",
    "        absolutedError.append(abs(val))\n",
    "    \n",
    "    return sum(absolutedError) / len(absolutedError)"
   ]
  },
  {
   "cell_type": "code",
   "execution_count": 51,
   "metadata": {},
   "outputs": [
    {
     "data": {
      "image/png": "[encoded data removed]",
      "text/plain": [
       "<Figure size 432x288 with 1 Axes>"
      ]
     },
     "metadata": {
      "needs_background": "light"
     },
     "output_type": "display_data"
    }
   ],
   "source": [
    "w = 3\n",
    "b = 0.5\n",
    "\n",
    "x_lin = np.linspace(0, 100, 101)\n",
    "\n",
    "y = (x_lin + np.random.randn(101) * 5) * w + b\n",
    "\n",
    "plt.plot(x_lin, y, 'b.', label = 'data points')\n",
    "plt.title(\"Assume we have data points\")\n",
    "plt.legend(loc = 2)\n",
    "plt.show()"
   ]
  },
  {
   "cell_type": "code",
   "execution_count": 52,
   "metadata": {},
   "outputs": [
    {
     "data": {
      "image/png": "[encoded data removed]",
      "text/plain": [
       "<Figure size 432x288 with 1 Axes>"
      ]
     },
     "metadata": {
      "needs_background": "light"
     },
     "output_type": "display_data"
    }
   ],
   "source": [
    "y_hat = x_lin * w + b\n",
    "plt.plot(x_lin, y, 'b.', label = 'data')\n",
    "plt.plot(x_lin, y_hat, 'r-', label = 'prediction')\n",
    "plt.title(\"Assume we have data points (And the prediction)\")\n",
    "plt.legend(loc = 2)\n",
    "plt.show()"
   ]
  },
  {
   "cell_type": "code",
   "execution_count": 53,
   "metadata": {},
   "outputs": [
    {
     "name": "stdout",
     "output_type": "stream",
     "text": [
      "The Mean squared error is 177.766\n",
      "The Mean absolute error is 11.111\n"
     ]
    }
   ],
   "source": [
    "# 執行 Function, 確認有沒有正常執行\n",
    "MSE = mean_squared_error(y, y_hat)\n",
    "MAE = mean_absolute_error(y, y_hat)\n",
    "print(\"The Mean squared error is %.3f\" % (MSE))\n",
    "print(\"The Mean absolute error is %.3f\" % (MAE))"
   ]
  },
  {
   "cell_type": "code",
   "execution_count": null,
   "metadata": {},
   "outputs": [],
   "source": []
  }
 ],
 "metadata": {
  "anaconda-cloud": {},
  "kernelspec": {
   "display_name": "Python 3",
   "language": "python",
   "name": "python3"
  },
  "language_info": {
   "codemirror_mode": {
    "name": "ipython",
    "version": 3
   },
   "file_extension": ".py",
   "mimetype": "text/x-python",
   "name": "python",
   "nbconvert_exporter": "python",
   "pygments_lexer": "ipython3",
   "version": "3.7.3"
  }
 },
 "nbformat": 4,
 "nbformat_minor": 1
}
