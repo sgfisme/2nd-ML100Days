{
 "cells": [
  {
   "cell_type": "markdown",
   "metadata": {},
   "source": [
    "作業1. 請上 Kaggle, 在 Competitions 或 Dataset 中找一組競賽或資料並寫下：\n",
    "\n",
    "1. 你選的這組資料為何重要\n",
    "\n",
    "2. 資料從何而來 (tips: 譬如提供者是誰、以什麼方式蒐集)\n",
    "\n",
    "3. 蒐集而來的資料型態為何\n",
    "\n",
    "4. 這組資料想解決的問題如何評估\n",
    "\n",
    "解答:\n",
    "\n",
    "我在 Kaggle 上選擇的是 LANL Earthquake Prediction 這組競賽題目\n",
    "\n",
    "1. 選擇它的原因是每次地震發生後，總是有可能伴隨著大規模的傷害，例如318東日本大地震，因此若能有效預測地震可能發生的時間、地點與震幅，就可能將每次地震帶來的傷害降到最低，對人類與公眾利益有利。\n",
    "\n",
    "2. 資料是由 Los Alamos National Laboratory 的 B. Rouet-Leduc 提供，是透過用於研究地震學的著名實驗裝置所蒐集。\n",
    "\n",
    "3. 蒐集來的資料型態為數值，其資料欄位定義如下:\n",
    "   \n",
    "   (1) acoustic_data: 地震訊號[int16]\n",
    "   \n",
    "   (2) time_to_failure: 距離下一次實驗室地震的剩餘時間[float64]\n",
    "   \n",
    "   (3) seg_id: 測試區段的 ID (每一次預測為一個測試區段)\n",
    "\n",
    "4. 這組競賽的目標是利用地震信號預測實驗室地震的時間，藉由地震訊號 (acoustic_data) 的輸入，來預測下一次實驗室地震 (time_to_failure) 之前的剩餘時間，如果剩餘時間越接近，則預測越準確。"
   ]
  },
  {
   "cell_type": "markdown",
   "metadata": {},
   "source": [
    "作業2：\n",
    "\n",
    "想像你經營一個自由載客車隊，你希望能透過數據分析以提升業績，請你思考並描述你如何規劃整體的分析/解決方案：\n",
    "\n",
    "1. 核心問題為何 (tips：如何定義 「提升業績 & 你的假設」)\n",
    "\n",
    "2. 資料從何而來 (tips：哪些資料可能會對你想問的問題產生影響 & 資料如何蒐集)\n",
    "\n",
    "3. 蒐集而來的資料型態為何\n",
    "\n",
    "4. 你要回答的問題，其如何評估 (tips：你的假設如何驗證)\n",
    "\n",
    "解答:\n",
    "\n",
    "1. 目前自由載客車隊多是透過網路推薦或是 App 方式進行攬客與派車服務，若想提升業績\n",
    "\n",
    "   ，如果能夠縮短司機前往客人所在地的時間或距離，提升每位司機的載客量，並縮短空車\n",
    "\n",
    "   時間，就能夠有效提升業績。\n",
    "\n",
    "2. 透過派車的歷史資料來分析每個時間區段，每個區域的叫車人數以及每位司機的載客量\n",
    "\n",
    "3. 蒐集來的資料型態為數值型態:\n",
    "\n",
    "   (1) time_series: 以 20 分鐘為一個單位\n",
    "\n",
    "   (2) district: 行政區域\n",
    "\n",
    "   (3) customer_count: 叫車人數\n",
    "\n",
    "   (4) order_by_each_driver: 每位司機的載客量\n",
    "\n",
    "4. 透過分析推薦附近的司機提前前往該時間區段較多叫車人數的區域等待，若每位司機的載\n",
    "\n",
    "   客量均有提升，代表驗證成功。\n"
   ]
  },
  {
   "cell_type": "markdown",
   "metadata": {},
   "source": [
    "## 練習時間\n",
    "#### 請寫一個函式用來計算 Mean Square Error\n",
    "$ MSE = \\frac{1}{n}\\sum_{i=1}^{n}{(Y_i - \\hat{Y}_i)^2} $\n",
    "\n",
    "### Hint: [如何取平方](https://googoodesign.gitbooks.io/-ezpython/unit-1.html)"
   ]
  },
  {
   "cell_type": "code",
   "execution_count": 11,
   "metadata": {},
   "outputs": [],
   "source": [
    "import numpy as np\n",
    "import matplotlib.pyplot as plt"
   ]
  },
  {
   "cell_type": "code",
   "execution_count": 12,
   "metadata": {},
   "outputs": [],
   "source": [
    "def mean_squared_error(y, y_hat):\n",
    "    \n",
    "    return sum((y - y_hat)**2) / len(y)\n",
    "\n",
    "def mean_absolute_error(y, y_hat):\n",
    "    \n",
    "    return sum(abs(y - y_hat)) / len(y)"
   ]
  },
  {
   "cell_type": "code",
   "execution_count": 13,
   "metadata": {},
   "outputs": [
    {
     "data": {
      "image/png": "[encoded data removed]",
      "text/plain": [
       "<Figure size 432x288 with 1 Axes>"
      ]
     },
     "metadata": {
      "needs_background": "light"
     },
     "output_type": "display_data"
    }
   ],
   "source": [
    "w = 3\n",
    "b = 0.5\n",
    "\n",
    "x_lin = np.linspace(0, 100, 101)\n",
    "\n",
    "y = (x_lin + np.random.randn(101) * 5) * w + b\n",
    "\n",
    "plt.plot(x_lin, y, 'b.', label = 'data points')\n",
    "plt.title(\"Assume we have data points\")\n",
    "plt.legend(loc = 2)\n",
    "plt.show()"
   ]
  },
  {
   "cell_type": "code",
   "execution_count": 14,
   "metadata": {},
   "outputs": [
    {
     "data": {
      "image/png": "[encoded data removed]",
      "text/plain": [
       "<Figure size 432x288 with 1 Axes>"
      ]
     },
     "metadata": {
      "needs_background": "light"
     },
     "output_type": "display_data"
    }
   ],
   "source": [
    "y_hat = x_lin * w + b\n",
    "plt.plot(x_lin, y, 'b.', label = 'data')\n",
    "plt.plot(x_lin, y_hat, 'r-', label = 'prediction')\n",
    "plt.title(\"Assume we have data points (And the prediction)\")\n",
    "plt.legend(loc = 2)\n",
    "plt.show()"
   ]
  },
  {
   "cell_type": "code",
   "execution_count": 15,
   "metadata": {},
   "outputs": [
    {
     "name": "stdout",
     "output_type": "stream",
     "text": [
      "y:  [ 3.94275772e+00 -2.37072206e+01  2.20370205e+01  9.84220515e+00\n",
      "  5.25046113e+00  6.19099313e+00 -6.13106739e-02  7.26761660e+00\n",
      "  2.44530343e+01  3.09390879e+01  3.87216945e+01  5.00681940e+01\n",
      "  3.25671988e+01  3.74575476e+01  5.87297304e+01  4.45457235e+01\n",
      "  5.89457126e+01  4.58394171e+01  3.97576592e+01  5.87945672e+01\n",
      "  8.60968210e+01  1.03038235e+02  4.47201426e+01  7.17316887e+01\n",
      "  8.10304632e+01  6.82301602e+01  7.73286305e+01  6.64968847e+01\n",
      "  7.83859153e+01  6.34475757e+01  1.03105031e+02  5.94318812e+01\n",
      "  9.59839345e+01  9.95109596e+01  1.01580533e+02  8.41568190e+01\n",
      "  8.98701264e+01  1.20829380e+02  9.70818613e+01  1.41551537e+02\n",
      "  1.24834047e+02  1.06811061e+02  1.15136670e+02  9.98129616e+01\n",
      "  1.43074430e+02  1.31160522e+02  1.64851320e+02  1.53727940e+02\n",
      "  1.53727030e+02  1.58546246e+02  1.58635643e+02  1.61333567e+02\n",
      "  1.57917096e+02  1.94725523e+02  1.49723616e+02  1.31341941e+02\n",
      "  1.85662570e+02  1.46004252e+02  1.62718075e+02  1.75768475e+02\n",
      "  1.96389151e+02  1.87390944e+02  1.91286666e+02  1.90395804e+02\n",
      "  2.11384106e+02  2.00470252e+02  1.93462591e+02  2.06304488e+02\n",
      "  2.09735933e+02  2.08141928e+02  2.17516249e+02  2.23467750e+02\n",
      "  2.21442647e+02  2.01048945e+02  2.03176385e+02  2.22965352e+02\n",
      "  2.25850799e+02  2.23875150e+02  2.19325672e+02  2.52938162e+02\n",
      "  2.17789542e+02  2.51295150e+02  2.37239436e+02  2.60840194e+02\n",
      "  2.48980689e+02  2.66526655e+02  3.02192847e+02  2.72289087e+02\n",
      "  2.53915857e+02  2.94129243e+02  2.35378252e+02  2.65211211e+02\n",
      "  2.82827192e+02  2.83969959e+02  2.68191198e+02  3.00164995e+02\n",
      "  3.15926123e+02  3.26334205e+02  2.76513785e+02  3.02460305e+02\n",
      "  3.11921368e+02]\n",
      "y_hat:  [  0.5   3.5   6.5   9.5  12.5  15.5  18.5  21.5  24.5  27.5  30.5  33.5\n",
      "  36.5  39.5  42.5  45.5  48.5  51.5  54.5  57.5  60.5  63.5  66.5  69.5\n",
      "  72.5  75.5  78.5  81.5  84.5  87.5  90.5  93.5  96.5  99.5 102.5 105.5\n",
      " 108.5 111.5 114.5 117.5 120.5 123.5 126.5 129.5 132.5 135.5 138.5 141.5\n",
      " 144.5 147.5 150.5 153.5 156.5 159.5 162.5 165.5 168.5 171.5 174.5 177.5\n",
      " 180.5 183.5 186.5 189.5 192.5 195.5 198.5 201.5 204.5 207.5 210.5 213.5\n",
      " 216.5 219.5 222.5 225.5 228.5 231.5 234.5 237.5 240.5 243.5 246.5 249.5\n",
      " 252.5 255.5 258.5 261.5 264.5 267.5 270.5 273.5 276.5 279.5 282.5 285.5\n",
      " 288.5 291.5 294.5 297.5 300.5]\n",
      "The Mean squared error is 256.295\n",
      "The Mean absolute error is 12.540\n"
     ]
    }
   ],
   "source": [
    "# 執行 Function, 確認有沒有正常執行\n",
    "MSE = mean_squared_error(y, y_hat)\n",
    "MAE = mean_absolute_error(y, y_hat)\n",
    "print(\"The Mean squared error is %.3f\" % (MSE))\n",
    "print(\"The Mean absolute error is %.3f\" % (MAE))"
   ]
  },
  {
   "cell_type": "code",
   "execution_count": null,
   "metadata": {},
   "outputs": [],
   "source": []
  }
 ],
 "metadata": {
  "anaconda-cloud": {},
  "kernelspec": {
   "display_name": "Python 3",
   "language": "python",
   "name": "python3"
  },
  "language_info": {
   "codemirror_mode": {
    "name": "ipython",
    "version": 3
   },
   "file_extension": ".py",
   "mimetype": "text/x-python",
   "name": "python",
   "nbconvert_exporter": "python",
   "pygments_lexer": "ipython3",
   "version": "3.7.3"
  }
 },
 "nbformat": 4,
 "nbformat_minor": 1
}
