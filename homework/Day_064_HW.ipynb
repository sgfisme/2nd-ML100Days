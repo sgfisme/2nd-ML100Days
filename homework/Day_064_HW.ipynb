{
 "cells": [
  {
   "cell_type": "markdown",
   "metadata": {},
   "source": [
    "# 作業\n",
    "* 選擇迴歸資料集(右) - 交錯六群，在其他參數保持預設值的情況下，只允許調整隱藏層層數與神經元數量，且遵守下列限制   \n",
    "> * 隱藏層神經元總數最多 8 個 (即 : 可以單層 8 個，或兩層 5 個與 3 個)   \n",
    "> * 遞迴次數只允許跑到500次  \n",
    "* 在上述限制下，挑戰看看測試誤差 (Test Loss) 最低能到多少? 請回答你的神經元參數與 Test Loss 數"
   ]
  },
  {
   "cell_type": "markdown",
   "metadata": {},
   "source": [
    "1. 神經元參數:單層2個，遞迴次數:500次，Test Loss:0.030\n",
    "2. 神經元參數:單層3個，遞迴次數:500次，Test Loss:0.022\n",
    "3. 神經元參數:單層4個，遞迴次數:500次，Test Loss:0.018\n",
    "4. 神經元參數:單層5個，遞迴次數:500次，Test Loss:0.017\n",
    "5. 神經元參數:單層6個，遞迴次數:500次，Test Loss:0.015\n",
    "6. 神經元參數:單層7個，遞迴次數:500次，Test Loss:0.016\n",
    "7. 神經元參數:單層8個，遞迴次數:500次，Test Loss:0.014\n",
    "8. 神經元參數:兩層7個/1個，遞迴次數:500次，Test Loss:0.018\n",
    "9. 神經元參數:兩層6個/2個，遞迴次數:500次，Test Loss:0.016\n",
    "10. 神經元參數:兩層5個/3個，遞迴次數:500次，Test Loss:0.017\n",
    "11. 神經元參數:兩層4個/4個，遞迴次數:500次，Test Loss:0.016\n",
    "12. 神經元參數:兩層3個/5個，遞迴次數:500次，Test Loss:0.020\n",
    "13. 神經元參數:兩層2個/6個，遞迴次數:500次，Test Loss:0.021\n",
    "14. 神經元參數:兩層1個/7個，遞迴次數:500次，Test Loss:0.043\n",
    "\n",
    "從結果來看，神經元參數單層6個~8個，訓練出來的Test Loss數結果較佳，兩層反而並沒有降低Test Loss數"
   ]
  },
  {
   "cell_type": "markdown",
   "metadata": {
    "collapsed": true
   },
   "source": []
  }
 ],
 "metadata": {
  "kernelspec": {
   "display_name": "Python 3",
   "language": "python",
   "name": "python3"
  },
  "language_info": {
   "codemirror_mode": {
    "name": "ipython",
    "version": 3
   },
   "file_extension": ".py",
   "mimetype": "text/x-python",
   "name": "python",
   "nbconvert_exporter": "python",
   "pygments_lexer": "ipython3",
   "version": "3.7.3"
  }
 },
 "nbformat": 4,
 "nbformat_minor": 2
}
